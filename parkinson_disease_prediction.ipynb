{
 "cells": [
  {
   "cell_type": "markdown",
   "id": "70978897",
   "metadata": {},
   "source": [
    "# <h1 style=\"font-family: Trebuchet MS; padding: 12px; font-size: 48px; color: #6C3483; text-align: center; line-height: 1.25;\"><b>Parkinson Disease<span style=\"color: #000000\"> EDA & Prediction</span></b><br><span style=\"color: #4A235A; font-size: 24px\">with Various Machine Learning Models </span></h1>\n",
    "<hr>\n",
    "​"
   ]
  },
  {
   "cell_type": "markdown",
   "id": "8bfd5e8a",
   "metadata": {},
   "source": [
    "# <h1 style=\"font-family: Trebuchet MS; padding: 12px; font-size: 32px; color: #6C3483; text-align: center; line-height: 1.25;\">Columns Description</h1>\n",
    "<hr>\n",
    "\n",
    "<ol start=\"1\">\n",
    "  <li>name - ASCII subject name and recording number</li>\n",
    "  <li>MDVP:Fo(Hz) - Average vocal fundamental frequency</li>\n",
    "<li>MDVP:Fhi(Hz) - Maximum vocal fundamental frequency</li>\n",
    "<li>MDVP:Flo(Hz) - Minimum vocal fundamental frequency</li>\n",
    "<li>MDVP:Jitter(%), MDVP:Jitter(Abs), MDVP:RAP, MDVP:PPQ, Jitter:DDP - Several measures of variation in fundamental frequency</li>\n",
    "<li>MDVP:Shimmer,MDVP:Shimmer(dB),Shimmer:APQ3,Shimmer:APQ5,MDVP:APQ,Shimmer:DDA - Several measures of variation in amplitude</li>\n",
    "<li>NHR, HNR - Two measures of the ratio of noise to tonal components in the voice</li>\n",
    "<li>status - The health status of the subject (one) - Parkinson's, (zero) - healthy</li>\n",
    "<li>RPDE, D2 - Two nonlinear dynamical complexity measures</li>\n",
    "<li>DFA - Signal fractal scaling exponent</li>\n",
    "<li>spread1,spread2,PPE - Three nonlinear measures of fundamental frequency variation</li>\n",
    "</ol>"
   ]
  },
  {
   "cell_type": "markdown",
   "id": "2bcdadfc",
   "metadata": {},
   "source": [
    "# <h1 style=\"font-family: Trebuchet MS; padding: 12px; font-size: 32px; color: #6C3483; text-align: center; line-height: 1.25;\">Import Essential Libraries</h1>\n",
    "<hr>"
   ]
  },
  {
   "cell_type": "code",
   "execution_count": 1,
   "id": "367e00bd",
   "metadata": {},
   "outputs": [],
   "source": [
    "import numpy as np\n",
    "import pandas as pd\n",
    "import matplotlib.pyplot as plt\n",
    "import seaborn as sns\n",
    "\n",
    "import warnings\n",
    "warnings.filterwarnings('ignore')\n",
    "\n",
    "import os, sys\n",
    "\n",
    "from sklearn.model_selection import train_test_split\n",
    "from sklearn.preprocessing import MinMaxScaler\n",
    "from sklearn.metrics import confusion_matrix,accuracy_score, classification_report\n",
    "from sklearn.datasets import make_classification\n",
    "from sklearn.linear_model import LogisticRegression\n",
    "from sklearn.ensemble import RandomForestClassifier\n",
    "from sklearn.tree import DecisionTreeClassifier\n",
    "from sklearn.svm import SVC\n",
    "import xgboost as xgb"
   ]
  },
  {
   "cell_type": "markdown",
   "id": "1209cc61",
   "metadata": {},
   "source": [
    "# <h1 style=\"font-family: Trebuchet MS; padding: 12px; font-size: 32px; color: #6C3483; text-align: center; line-height: 1.25;\">Load Dataset</h1>\n",
    "<hr>"
   ]
  },
  {
   "cell_type": "code",
   "execution_count": 2,
   "id": "f23352bc",
   "metadata": {},
   "outputs": [],
   "source": [
    "parkinson_dataset = pd.read_csv(\"Parkinsson disease.csv\")"
   ]
  },
  {
   "cell_type": "markdown",
   "id": "b2d7de11",
   "metadata": {},
   "source": [
    "# <h1 style=\"font-family: Trebuchet MS; padding: 12px; font-size: 32px; color: #6C3483; text-align: center; line-height: 1.25;\">Viewing Dataset</h1>\n",
    "<hr>"
   ]
  },
  {
   "cell_type": "code",
   "execution_count": 3,
   "id": "f344344d",
   "metadata": {},
   "outputs": [
    {
     "data": {
      "text/html": [
       "<div>\n",
       "<style scoped>\n",
       "    .dataframe tbody tr th:only-of-type {\n",
       "        vertical-align: middle;\n",
       "    }\n",
       "\n",
       "    .dataframe tbody tr th {\n",
       "        vertical-align: top;\n",
       "    }\n",
       "\n",
       "    .dataframe thead th {\n",
       "        text-align: right;\n",
       "    }\n",
       "</style>\n",
       "<table border=\"1\" class=\"dataframe\">\n",
       "  <thead>\n",
       "    <tr style=\"text-align: right;\">\n",
       "      <th></th>\n",
       "      <th>name</th>\n",
       "      <th>MDVP:Fo(Hz)</th>\n",
       "      <th>MDVP:Fhi(Hz)</th>\n",
       "      <th>MDVP:Flo(Hz)</th>\n",
       "      <th>MDVP:Jitter(%)</th>\n",
       "      <th>MDVP:Jitter(Abs)</th>\n",
       "      <th>MDVP:RAP</th>\n",
       "      <th>MDVP:PPQ</th>\n",
       "      <th>Jitter:DDP</th>\n",
       "      <th>MDVP:Shimmer</th>\n",
       "      <th>...</th>\n",
       "      <th>Shimmer:DDA</th>\n",
       "      <th>NHR</th>\n",
       "      <th>HNR</th>\n",
       "      <th>status</th>\n",
       "      <th>RPDE</th>\n",
       "      <th>DFA</th>\n",
       "      <th>spread1</th>\n",
       "      <th>spread2</th>\n",
       "      <th>D2</th>\n",
       "      <th>PPE</th>\n",
       "    </tr>\n",
       "  </thead>\n",
       "  <tbody>\n",
       "    <tr>\n",
       "      <th>0</th>\n",
       "      <td>phon_R01_S01_1</td>\n",
       "      <td>119.992</td>\n",
       "      <td>157.302</td>\n",
       "      <td>74.997</td>\n",
       "      <td>0.00784</td>\n",
       "      <td>0.00007</td>\n",
       "      <td>0.00370</td>\n",
       "      <td>0.00554</td>\n",
       "      <td>0.01109</td>\n",
       "      <td>0.04374</td>\n",
       "      <td>...</td>\n",
       "      <td>0.06545</td>\n",
       "      <td>0.02211</td>\n",
       "      <td>21.033</td>\n",
       "      <td>1</td>\n",
       "      <td>0.414783</td>\n",
       "      <td>0.815285</td>\n",
       "      <td>-4.813031</td>\n",
       "      <td>0.266482</td>\n",
       "      <td>2.301442</td>\n",
       "      <td>0.284654</td>\n",
       "    </tr>\n",
       "    <tr>\n",
       "      <th>1</th>\n",
       "      <td>phon_R01_S01_2</td>\n",
       "      <td>122.400</td>\n",
       "      <td>148.650</td>\n",
       "      <td>113.819</td>\n",
       "      <td>0.00968</td>\n",
       "      <td>0.00008</td>\n",
       "      <td>0.00465</td>\n",
       "      <td>0.00696</td>\n",
       "      <td>0.01394</td>\n",
       "      <td>0.06134</td>\n",
       "      <td>...</td>\n",
       "      <td>0.09403</td>\n",
       "      <td>0.01929</td>\n",
       "      <td>19.085</td>\n",
       "      <td>1</td>\n",
       "      <td>0.458359</td>\n",
       "      <td>0.819521</td>\n",
       "      <td>-4.075192</td>\n",
       "      <td>0.335590</td>\n",
       "      <td>2.486855</td>\n",
       "      <td>0.368674</td>\n",
       "    </tr>\n",
       "    <tr>\n",
       "      <th>2</th>\n",
       "      <td>phon_R01_S01_3</td>\n",
       "      <td>116.682</td>\n",
       "      <td>131.111</td>\n",
       "      <td>111.555</td>\n",
       "      <td>0.01050</td>\n",
       "      <td>0.00009</td>\n",
       "      <td>0.00544</td>\n",
       "      <td>0.00781</td>\n",
       "      <td>0.01633</td>\n",
       "      <td>0.05233</td>\n",
       "      <td>...</td>\n",
       "      <td>0.08270</td>\n",
       "      <td>0.01309</td>\n",
       "      <td>20.651</td>\n",
       "      <td>1</td>\n",
       "      <td>0.429895</td>\n",
       "      <td>0.825288</td>\n",
       "      <td>-4.443179</td>\n",
       "      <td>0.311173</td>\n",
       "      <td>2.342259</td>\n",
       "      <td>0.332634</td>\n",
       "    </tr>\n",
       "    <tr>\n",
       "      <th>3</th>\n",
       "      <td>phon_R01_S01_4</td>\n",
       "      <td>116.676</td>\n",
       "      <td>137.871</td>\n",
       "      <td>111.366</td>\n",
       "      <td>0.00997</td>\n",
       "      <td>0.00009</td>\n",
       "      <td>0.00502</td>\n",
       "      <td>0.00698</td>\n",
       "      <td>0.01505</td>\n",
       "      <td>0.05492</td>\n",
       "      <td>...</td>\n",
       "      <td>0.08771</td>\n",
       "      <td>0.01353</td>\n",
       "      <td>20.644</td>\n",
       "      <td>1</td>\n",
       "      <td>0.434969</td>\n",
       "      <td>0.819235</td>\n",
       "      <td>-4.117501</td>\n",
       "      <td>0.334147</td>\n",
       "      <td>2.405554</td>\n",
       "      <td>0.368975</td>\n",
       "    </tr>\n",
       "    <tr>\n",
       "      <th>4</th>\n",
       "      <td>phon_R01_S01_5</td>\n",
       "      <td>116.014</td>\n",
       "      <td>141.781</td>\n",
       "      <td>110.655</td>\n",
       "      <td>0.01284</td>\n",
       "      <td>0.00011</td>\n",
       "      <td>0.00655</td>\n",
       "      <td>0.00908</td>\n",
       "      <td>0.01966</td>\n",
       "      <td>0.06425</td>\n",
       "      <td>...</td>\n",
       "      <td>0.10470</td>\n",
       "      <td>0.01767</td>\n",
       "      <td>19.649</td>\n",
       "      <td>1</td>\n",
       "      <td>0.417356</td>\n",
       "      <td>0.823484</td>\n",
       "      <td>-3.747787</td>\n",
       "      <td>0.234513</td>\n",
       "      <td>2.332180</td>\n",
       "      <td>0.410335</td>\n",
       "    </tr>\n",
       "  </tbody>\n",
       "</table>\n",
       "<p>5 rows × 24 columns</p>\n",
       "</div>"
      ],
      "text/plain": [
       "             name  MDVP:Fo(Hz)  MDVP:Fhi(Hz)  MDVP:Flo(Hz)  MDVP:Jitter(%)  \\\n",
       "0  phon_R01_S01_1      119.992       157.302        74.997         0.00784   \n",
       "1  phon_R01_S01_2      122.400       148.650       113.819         0.00968   \n",
       "2  phon_R01_S01_3      116.682       131.111       111.555         0.01050   \n",
       "3  phon_R01_S01_4      116.676       137.871       111.366         0.00997   \n",
       "4  phon_R01_S01_5      116.014       141.781       110.655         0.01284   \n",
       "\n",
       "   MDVP:Jitter(Abs)  MDVP:RAP  MDVP:PPQ  Jitter:DDP  MDVP:Shimmer  ...  \\\n",
       "0           0.00007   0.00370   0.00554     0.01109       0.04374  ...   \n",
       "1           0.00008   0.00465   0.00696     0.01394       0.06134  ...   \n",
       "2           0.00009   0.00544   0.00781     0.01633       0.05233  ...   \n",
       "3           0.00009   0.00502   0.00698     0.01505       0.05492  ...   \n",
       "4           0.00011   0.00655   0.00908     0.01966       0.06425  ...   \n",
       "\n",
       "   Shimmer:DDA      NHR     HNR  status      RPDE       DFA   spread1  \\\n",
       "0      0.06545  0.02211  21.033       1  0.414783  0.815285 -4.813031   \n",
       "1      0.09403  0.01929  19.085       1  0.458359  0.819521 -4.075192   \n",
       "2      0.08270  0.01309  20.651       1  0.429895  0.825288 -4.443179   \n",
       "3      0.08771  0.01353  20.644       1  0.434969  0.819235 -4.117501   \n",
       "4      0.10470  0.01767  19.649       1  0.417356  0.823484 -3.747787   \n",
       "\n",
       "    spread2        D2       PPE  \n",
       "0  0.266482  2.301442  0.284654  \n",
       "1  0.335590  2.486855  0.368674  \n",
       "2  0.311173  2.342259  0.332634  \n",
       "3  0.334147  2.405554  0.368975  \n",
       "4  0.234513  2.332180  0.410335  \n",
       "\n",
       "[5 rows x 24 columns]"
      ]
     },
     "execution_count": 3,
     "metadata": {},
     "output_type": "execute_result"
    }
   ],
   "source": [
    "parkinson_dataset.head()"
   ]
  },
  {
   "cell_type": "code",
   "execution_count": 4,
   "id": "a01e6944",
   "metadata": {},
   "outputs": [
    {
     "data": {
      "text/html": [
       "<div>\n",
       "<style scoped>\n",
       "    .dataframe tbody tr th:only-of-type {\n",
       "        vertical-align: middle;\n",
       "    }\n",
       "\n",
       "    .dataframe tbody tr th {\n",
       "        vertical-align: top;\n",
       "    }\n",
       "\n",
       "    .dataframe thead th {\n",
       "        text-align: right;\n",
       "    }\n",
       "</style>\n",
       "<table border=\"1\" class=\"dataframe\">\n",
       "  <thead>\n",
       "    <tr style=\"text-align: right;\">\n",
       "      <th></th>\n",
       "      <th>name</th>\n",
       "      <th>MDVP:Fo(Hz)</th>\n",
       "      <th>MDVP:Fhi(Hz)</th>\n",
       "      <th>MDVP:Flo(Hz)</th>\n",
       "      <th>MDVP:Jitter(%)</th>\n",
       "      <th>MDVP:Jitter(Abs)</th>\n",
       "      <th>MDVP:RAP</th>\n",
       "      <th>MDVP:PPQ</th>\n",
       "      <th>Jitter:DDP</th>\n",
       "      <th>MDVP:Shimmer</th>\n",
       "      <th>...</th>\n",
       "      <th>Shimmer:DDA</th>\n",
       "      <th>NHR</th>\n",
       "      <th>HNR</th>\n",
       "      <th>status</th>\n",
       "      <th>RPDE</th>\n",
       "      <th>DFA</th>\n",
       "      <th>spread1</th>\n",
       "      <th>spread2</th>\n",
       "      <th>D2</th>\n",
       "      <th>PPE</th>\n",
       "    </tr>\n",
       "  </thead>\n",
       "  <tbody>\n",
       "    <tr>\n",
       "      <th>190</th>\n",
       "      <td>phon_R01_S50_2</td>\n",
       "      <td>174.188</td>\n",
       "      <td>230.978</td>\n",
       "      <td>94.261</td>\n",
       "      <td>0.00459</td>\n",
       "      <td>0.00003</td>\n",
       "      <td>0.00263</td>\n",
       "      <td>0.00259</td>\n",
       "      <td>0.00790</td>\n",
       "      <td>0.04087</td>\n",
       "      <td>...</td>\n",
       "      <td>0.07008</td>\n",
       "      <td>0.02764</td>\n",
       "      <td>19.517</td>\n",
       "      <td>0</td>\n",
       "      <td>0.448439</td>\n",
       "      <td>0.657899</td>\n",
       "      <td>-6.538586</td>\n",
       "      <td>0.121952</td>\n",
       "      <td>2.657476</td>\n",
       "      <td>0.133050</td>\n",
       "    </tr>\n",
       "    <tr>\n",
       "      <th>191</th>\n",
       "      <td>phon_R01_S50_3</td>\n",
       "      <td>209.516</td>\n",
       "      <td>253.017</td>\n",
       "      <td>89.488</td>\n",
       "      <td>0.00564</td>\n",
       "      <td>0.00003</td>\n",
       "      <td>0.00331</td>\n",
       "      <td>0.00292</td>\n",
       "      <td>0.00994</td>\n",
       "      <td>0.02751</td>\n",
       "      <td>...</td>\n",
       "      <td>0.04812</td>\n",
       "      <td>0.01810</td>\n",
       "      <td>19.147</td>\n",
       "      <td>0</td>\n",
       "      <td>0.431674</td>\n",
       "      <td>0.683244</td>\n",
       "      <td>-6.195325</td>\n",
       "      <td>0.129303</td>\n",
       "      <td>2.784312</td>\n",
       "      <td>0.168895</td>\n",
       "    </tr>\n",
       "    <tr>\n",
       "      <th>192</th>\n",
       "      <td>phon_R01_S50_4</td>\n",
       "      <td>174.688</td>\n",
       "      <td>240.005</td>\n",
       "      <td>74.287</td>\n",
       "      <td>0.01360</td>\n",
       "      <td>0.00008</td>\n",
       "      <td>0.00624</td>\n",
       "      <td>0.00564</td>\n",
       "      <td>0.01873</td>\n",
       "      <td>0.02308</td>\n",
       "      <td>...</td>\n",
       "      <td>0.03804</td>\n",
       "      <td>0.10715</td>\n",
       "      <td>17.883</td>\n",
       "      <td>0</td>\n",
       "      <td>0.407567</td>\n",
       "      <td>0.655683</td>\n",
       "      <td>-6.787197</td>\n",
       "      <td>0.158453</td>\n",
       "      <td>2.679772</td>\n",
       "      <td>0.131728</td>\n",
       "    </tr>\n",
       "    <tr>\n",
       "      <th>193</th>\n",
       "      <td>phon_R01_S50_5</td>\n",
       "      <td>198.764</td>\n",
       "      <td>396.961</td>\n",
       "      <td>74.904</td>\n",
       "      <td>0.00740</td>\n",
       "      <td>0.00004</td>\n",
       "      <td>0.00370</td>\n",
       "      <td>0.00390</td>\n",
       "      <td>0.01109</td>\n",
       "      <td>0.02296</td>\n",
       "      <td>...</td>\n",
       "      <td>0.03794</td>\n",
       "      <td>0.07223</td>\n",
       "      <td>19.020</td>\n",
       "      <td>0</td>\n",
       "      <td>0.451221</td>\n",
       "      <td>0.643956</td>\n",
       "      <td>-6.744577</td>\n",
       "      <td>0.207454</td>\n",
       "      <td>2.138608</td>\n",
       "      <td>0.123306</td>\n",
       "    </tr>\n",
       "    <tr>\n",
       "      <th>194</th>\n",
       "      <td>phon_R01_S50_6</td>\n",
       "      <td>214.289</td>\n",
       "      <td>260.277</td>\n",
       "      <td>77.973</td>\n",
       "      <td>0.00567</td>\n",
       "      <td>0.00003</td>\n",
       "      <td>0.00295</td>\n",
       "      <td>0.00317</td>\n",
       "      <td>0.00885</td>\n",
       "      <td>0.01884</td>\n",
       "      <td>...</td>\n",
       "      <td>0.03078</td>\n",
       "      <td>0.04398</td>\n",
       "      <td>21.209</td>\n",
       "      <td>0</td>\n",
       "      <td>0.462803</td>\n",
       "      <td>0.664357</td>\n",
       "      <td>-5.724056</td>\n",
       "      <td>0.190667</td>\n",
       "      <td>2.555477</td>\n",
       "      <td>0.148569</td>\n",
       "    </tr>\n",
       "  </tbody>\n",
       "</table>\n",
       "<p>5 rows × 24 columns</p>\n",
       "</div>"
      ],
      "text/plain": [
       "               name  MDVP:Fo(Hz)  MDVP:Fhi(Hz)  MDVP:Flo(Hz)  MDVP:Jitter(%)  \\\n",
       "190  phon_R01_S50_2      174.188       230.978        94.261         0.00459   \n",
       "191  phon_R01_S50_3      209.516       253.017        89.488         0.00564   \n",
       "192  phon_R01_S50_4      174.688       240.005        74.287         0.01360   \n",
       "193  phon_R01_S50_5      198.764       396.961        74.904         0.00740   \n",
       "194  phon_R01_S50_6      214.289       260.277        77.973         0.00567   \n",
       "\n",
       "     MDVP:Jitter(Abs)  MDVP:RAP  MDVP:PPQ  Jitter:DDP  MDVP:Shimmer  ...  \\\n",
       "190           0.00003   0.00263   0.00259     0.00790       0.04087  ...   \n",
       "191           0.00003   0.00331   0.00292     0.00994       0.02751  ...   \n",
       "192           0.00008   0.00624   0.00564     0.01873       0.02308  ...   \n",
       "193           0.00004   0.00370   0.00390     0.01109       0.02296  ...   \n",
       "194           0.00003   0.00295   0.00317     0.00885       0.01884  ...   \n",
       "\n",
       "     Shimmer:DDA      NHR     HNR  status      RPDE       DFA   spread1  \\\n",
       "190      0.07008  0.02764  19.517       0  0.448439  0.657899 -6.538586   \n",
       "191      0.04812  0.01810  19.147       0  0.431674  0.683244 -6.195325   \n",
       "192      0.03804  0.10715  17.883       0  0.407567  0.655683 -6.787197   \n",
       "193      0.03794  0.07223  19.020       0  0.451221  0.643956 -6.744577   \n",
       "194      0.03078  0.04398  21.209       0  0.462803  0.664357 -5.724056   \n",
       "\n",
       "      spread2        D2       PPE  \n",
       "190  0.121952  2.657476  0.133050  \n",
       "191  0.129303  2.784312  0.168895  \n",
       "192  0.158453  2.679772  0.131728  \n",
       "193  0.207454  2.138608  0.123306  \n",
       "194  0.190667  2.555477  0.148569  \n",
       "\n",
       "[5 rows x 24 columns]"
      ]
     },
     "execution_count": 4,
     "metadata": {},
     "output_type": "execute_result"
    }
   ],
   "source": [
    "parkinson_dataset.tail()"
   ]
  },
  {
   "cell_type": "code",
   "execution_count": 5,
   "id": "03c6d3a3",
   "metadata": {},
   "outputs": [
    {
     "data": {
      "text/html": [
       "<div>\n",
       "<style scoped>\n",
       "    .dataframe tbody tr th:only-of-type {\n",
       "        vertical-align: middle;\n",
       "    }\n",
       "\n",
       "    .dataframe tbody tr th {\n",
       "        vertical-align: top;\n",
       "    }\n",
       "\n",
       "    .dataframe thead th {\n",
       "        text-align: right;\n",
       "    }\n",
       "</style>\n",
       "<table border=\"1\" class=\"dataframe\">\n",
       "  <thead>\n",
       "    <tr style=\"text-align: right;\">\n",
       "      <th></th>\n",
       "      <th>name</th>\n",
       "      <th>MDVP:Fo(Hz)</th>\n",
       "      <th>MDVP:Fhi(Hz)</th>\n",
       "      <th>MDVP:Flo(Hz)</th>\n",
       "      <th>MDVP:Jitter(%)</th>\n",
       "      <th>MDVP:Jitter(Abs)</th>\n",
       "      <th>MDVP:RAP</th>\n",
       "      <th>MDVP:PPQ</th>\n",
       "      <th>Jitter:DDP</th>\n",
       "      <th>MDVP:Shimmer</th>\n",
       "      <th>...</th>\n",
       "      <th>Shimmer:DDA</th>\n",
       "      <th>NHR</th>\n",
       "      <th>HNR</th>\n",
       "      <th>status</th>\n",
       "      <th>RPDE</th>\n",
       "      <th>DFA</th>\n",
       "      <th>spread1</th>\n",
       "      <th>spread2</th>\n",
       "      <th>D2</th>\n",
       "      <th>PPE</th>\n",
       "    </tr>\n",
       "  </thead>\n",
       "  <tbody>\n",
       "    <tr>\n",
       "      <th>60</th>\n",
       "      <td>phon_R01_S17_1</td>\n",
       "      <td>209.144</td>\n",
       "      <td>237.494</td>\n",
       "      <td>109.379</td>\n",
       "      <td>0.00282</td>\n",
       "      <td>0.00001</td>\n",
       "      <td>0.00147</td>\n",
       "      <td>0.00152</td>\n",
       "      <td>0.00442</td>\n",
       "      <td>0.01861</td>\n",
       "      <td>...</td>\n",
       "      <td>0.02925</td>\n",
       "      <td>0.00871</td>\n",
       "      <td>25.554</td>\n",
       "      <td>0</td>\n",
       "      <td>0.341788</td>\n",
       "      <td>0.678874</td>\n",
       "      <td>-7.040508</td>\n",
       "      <td>0.066994</td>\n",
       "      <td>2.460791</td>\n",
       "      <td>0.101516</td>\n",
       "    </tr>\n",
       "    <tr>\n",
       "      <th>170</th>\n",
       "      <td>phon_R01_S42_6</td>\n",
       "      <td>244.990</td>\n",
       "      <td>272.210</td>\n",
       "      <td>239.170</td>\n",
       "      <td>0.00451</td>\n",
       "      <td>0.00002</td>\n",
       "      <td>0.00279</td>\n",
       "      <td>0.00237</td>\n",
       "      <td>0.00837</td>\n",
       "      <td>0.01897</td>\n",
       "      <td>...</td>\n",
       "      <td>0.03253</td>\n",
       "      <td>0.01049</td>\n",
       "      <td>21.528</td>\n",
       "      <td>0</td>\n",
       "      <td>0.522812</td>\n",
       "      <td>0.646818</td>\n",
       "      <td>-7.304500</td>\n",
       "      <td>0.171088</td>\n",
       "      <td>2.095237</td>\n",
       "      <td>0.096220</td>\n",
       "    </tr>\n",
       "    <tr>\n",
       "      <th>19</th>\n",
       "      <td>phon_R01_S05_2</td>\n",
       "      <td>156.405</td>\n",
       "      <td>189.398</td>\n",
       "      <td>142.822</td>\n",
       "      <td>0.00768</td>\n",
       "      <td>0.00005</td>\n",
       "      <td>0.00372</td>\n",
       "      <td>0.00399</td>\n",
       "      <td>0.01116</td>\n",
       "      <td>0.03995</td>\n",
       "      <td>...</td>\n",
       "      <td>0.05164</td>\n",
       "      <td>0.03365</td>\n",
       "      <td>17.153</td>\n",
       "      <td>1</td>\n",
       "      <td>0.649554</td>\n",
       "      <td>0.686080</td>\n",
       "      <td>-4.554466</td>\n",
       "      <td>0.340176</td>\n",
       "      <td>2.856676</td>\n",
       "      <td>0.322111</td>\n",
       "    </tr>\n",
       "    <tr>\n",
       "      <th>151</th>\n",
       "      <td>phon_R01_S35_6</td>\n",
       "      <td>192.818</td>\n",
       "      <td>224.429</td>\n",
       "      <td>168.793</td>\n",
       "      <td>0.03107</td>\n",
       "      <td>0.00016</td>\n",
       "      <td>0.01800</td>\n",
       "      <td>0.01958</td>\n",
       "      <td>0.05401</td>\n",
       "      <td>0.11908</td>\n",
       "      <td>...</td>\n",
       "      <td>0.16942</td>\n",
       "      <td>0.21713</td>\n",
       "      <td>8.441</td>\n",
       "      <td>1</td>\n",
       "      <td>0.625866</td>\n",
       "      <td>0.768320</td>\n",
       "      <td>-2.434031</td>\n",
       "      <td>0.450493</td>\n",
       "      <td>3.079221</td>\n",
       "      <td>0.527367</td>\n",
       "    </tr>\n",
       "    <tr>\n",
       "      <th>154</th>\n",
       "      <td>phon_R01_S37_2</td>\n",
       "      <td>119.100</td>\n",
       "      <td>128.442</td>\n",
       "      <td>88.833</td>\n",
       "      <td>0.00692</td>\n",
       "      <td>0.00006</td>\n",
       "      <td>0.00393</td>\n",
       "      <td>0.00300</td>\n",
       "      <td>0.01179</td>\n",
       "      <td>0.02682</td>\n",
       "      <td>...</td>\n",
       "      <td>0.04451</td>\n",
       "      <td>0.04611</td>\n",
       "      <td>21.824</td>\n",
       "      <td>1</td>\n",
       "      <td>0.651680</td>\n",
       "      <td>0.659333</td>\n",
       "      <td>-4.239028</td>\n",
       "      <td>0.175691</td>\n",
       "      <td>2.451130</td>\n",
       "      <td>0.247455</td>\n",
       "    </tr>\n",
       "  </tbody>\n",
       "</table>\n",
       "<p>5 rows × 24 columns</p>\n",
       "</div>"
      ],
      "text/plain": [
       "               name  MDVP:Fo(Hz)  MDVP:Fhi(Hz)  MDVP:Flo(Hz)  MDVP:Jitter(%)  \\\n",
       "60   phon_R01_S17_1      209.144       237.494       109.379         0.00282   \n",
       "170  phon_R01_S42_6      244.990       272.210       239.170         0.00451   \n",
       "19   phon_R01_S05_2      156.405       189.398       142.822         0.00768   \n",
       "151  phon_R01_S35_6      192.818       224.429       168.793         0.03107   \n",
       "154  phon_R01_S37_2      119.100       128.442        88.833         0.00692   \n",
       "\n",
       "     MDVP:Jitter(Abs)  MDVP:RAP  MDVP:PPQ  Jitter:DDP  MDVP:Shimmer  ...  \\\n",
       "60            0.00001   0.00147   0.00152     0.00442       0.01861  ...   \n",
       "170           0.00002   0.00279   0.00237     0.00837       0.01897  ...   \n",
       "19            0.00005   0.00372   0.00399     0.01116       0.03995  ...   \n",
       "151           0.00016   0.01800   0.01958     0.05401       0.11908  ...   \n",
       "154           0.00006   0.00393   0.00300     0.01179       0.02682  ...   \n",
       "\n",
       "     Shimmer:DDA      NHR     HNR  status      RPDE       DFA   spread1  \\\n",
       "60       0.02925  0.00871  25.554       0  0.341788  0.678874 -7.040508   \n",
       "170      0.03253  0.01049  21.528       0  0.522812  0.646818 -7.304500   \n",
       "19       0.05164  0.03365  17.153       1  0.649554  0.686080 -4.554466   \n",
       "151      0.16942  0.21713   8.441       1  0.625866  0.768320 -2.434031   \n",
       "154      0.04451  0.04611  21.824       1  0.651680  0.659333 -4.239028   \n",
       "\n",
       "      spread2        D2       PPE  \n",
       "60   0.066994  2.460791  0.101516  \n",
       "170  0.171088  2.095237  0.096220  \n",
       "19   0.340176  2.856676  0.322111  \n",
       "151  0.450493  3.079221  0.527367  \n",
       "154  0.175691  2.451130  0.247455  \n",
       "\n",
       "[5 rows x 24 columns]"
      ]
     },
     "execution_count": 5,
     "metadata": {},
     "output_type": "execute_result"
    }
   ],
   "source": [
    "parkinson_dataset.sample(5)"
   ]
  },
  {
   "cell_type": "markdown",
   "id": "250fddfe",
   "metadata": {},
   "source": [
    "# <h1 style=\"font-family: Trebuchet MS; padding: 12px; font-size: 32px; color: #6C3483; text-align: center; line-height: 1.25;\">Information of Dataset</h1>\n",
    "<hr>"
   ]
  },
  {
   "cell_type": "code",
   "execution_count": 6,
   "id": "bd0e370e",
   "metadata": {},
   "outputs": [
    {
     "name": "stdout",
     "output_type": "stream",
     "text": [
      "<class 'pandas.core.frame.DataFrame'>\n",
      "RangeIndex: 195 entries, 0 to 194\n",
      "Data columns (total 24 columns):\n",
      " #   Column            Non-Null Count  Dtype  \n",
      "---  ------            --------------  -----  \n",
      " 0   name              195 non-null    object \n",
      " 1   MDVP:Fo(Hz)       195 non-null    float64\n",
      " 2   MDVP:Fhi(Hz)      195 non-null    float64\n",
      " 3   MDVP:Flo(Hz)      195 non-null    float64\n",
      " 4   MDVP:Jitter(%)    195 non-null    float64\n",
      " 5   MDVP:Jitter(Abs)  195 non-null    float64\n",
      " 6   MDVP:RAP          195 non-null    float64\n",
      " 7   MDVP:PPQ          195 non-null    float64\n",
      " 8   Jitter:DDP        195 non-null    float64\n",
      " 9   MDVP:Shimmer      195 non-null    float64\n",
      " 10  MDVP:Shimmer(dB)  195 non-null    float64\n",
      " 11  Shimmer:APQ3      195 non-null    float64\n",
      " 12  Shimmer:APQ5      195 non-null    float64\n",
      " 13  MDVP:APQ          195 non-null    float64\n",
      " 14  Shimmer:DDA       195 non-null    float64\n",
      " 15  NHR               195 non-null    float64\n",
      " 16  HNR               195 non-null    float64\n",
      " 17  status            195 non-null    int64  \n",
      " 18  RPDE              195 non-null    float64\n",
      " 19  DFA               195 non-null    float64\n",
      " 20  spread1           195 non-null    float64\n",
      " 21  spread2           195 non-null    float64\n",
      " 22  D2                195 non-null    float64\n",
      " 23  PPE               195 non-null    float64\n",
      "dtypes: float64(22), int64(1), object(1)\n",
      "memory usage: 36.7+ KB\n"
     ]
    }
   ],
   "source": [
    "parkinson_dataset.info()"
   ]
  },
  {
   "cell_type": "markdown",
   "id": "861d046a",
   "metadata": {},
   "source": [
    "# <h1 style=\"font-family: Trebuchet MS; padding: 12px; font-size: 32px; color: #6C3483; text-align: center; line-height: 1.25;\"><b>Creating Synthetic Data<br><span style=\"color: #4A235A; font-size: 18px\">Due to less number of data, ML models will not be trained properly, so we are creating a function to generate synthetic data based on existing data and data pattern. </span></h1>\n",
    "<hr>\n",
    "​"
   ]
  },
  {
   "cell_type": "code",
   "execution_count": 7,
   "id": "8e4abe12",
   "metadata": {},
   "outputs": [
    {
     "name": "stdout",
     "output_type": "stream",
     "text": [
      "<class 'pandas.core.frame.DataFrame'>\n",
      "Int64Index: 147 entries, 0 to 182\n",
      "Data columns (total 24 columns):\n",
      " #   Column            Non-Null Count  Dtype  \n",
      "---  ------            --------------  -----  \n",
      " 0   name              147 non-null    object \n",
      " 1   MDVP:Fo(Hz)       147 non-null    float64\n",
      " 2   MDVP:Fhi(Hz)      147 non-null    float64\n",
      " 3   MDVP:Flo(Hz)      147 non-null    float64\n",
      " 4   MDVP:Jitter(%)    147 non-null    float64\n",
      " 5   MDVP:Jitter(Abs)  147 non-null    float64\n",
      " 6   MDVP:RAP          147 non-null    float64\n",
      " 7   MDVP:PPQ          147 non-null    float64\n",
      " 8   Jitter:DDP        147 non-null    float64\n",
      " 9   MDVP:Shimmer      147 non-null    float64\n",
      " 10  MDVP:Shimmer(dB)  147 non-null    float64\n",
      " 11  Shimmer:APQ3      147 non-null    float64\n",
      " 12  Shimmer:APQ5      147 non-null    float64\n",
      " 13  MDVP:APQ          147 non-null    float64\n",
      " 14  Shimmer:DDA       147 non-null    float64\n",
      " 15  NHR               147 non-null    float64\n",
      " 16  HNR               147 non-null    float64\n",
      " 17  status            147 non-null    int64  \n",
      " 18  RPDE              147 non-null    float64\n",
      " 19  DFA               147 non-null    float64\n",
      " 20  spread1           147 non-null    float64\n",
      " 21  spread2           147 non-null    float64\n",
      " 22  D2                147 non-null    float64\n",
      " 23  PPE               147 non-null    float64\n",
      "dtypes: float64(22), int64(1), object(1)\n",
      "memory usage: 28.7+ KB\n"
     ]
    }
   ],
   "source": [
    "# Get status = 1 (patient) data and set to Dataframe\n",
    "statusOne = parkinson_dataset[parkinson_dataset['status'] == 1]\n",
    "pd.DataFrame(statusOne)\n",
    "statusOne.info()"
   ]
  },
  {
   "cell_type": "code",
   "execution_count": 8,
   "id": "4e0cf500",
   "metadata": {
    "scrolled": true
   },
   "outputs": [
    {
     "data": {
      "text/html": [
       "<div>\n",
       "<style scoped>\n",
       "    .dataframe tbody tr th:only-of-type {\n",
       "        vertical-align: middle;\n",
       "    }\n",
       "\n",
       "    .dataframe tbody tr th {\n",
       "        vertical-align: top;\n",
       "    }\n",
       "\n",
       "    .dataframe thead th {\n",
       "        text-align: right;\n",
       "    }\n",
       "</style>\n",
       "<table border=\"1\" class=\"dataframe\">\n",
       "  <thead>\n",
       "    <tr style=\"text-align: right;\">\n",
       "      <th></th>\n",
       "      <th>name</th>\n",
       "      <th>MDVP:Fo(Hz)</th>\n",
       "      <th>MDVP:Fhi(Hz)</th>\n",
       "      <th>MDVP:Flo(Hz)</th>\n",
       "      <th>MDVP:Jitter(%)</th>\n",
       "      <th>MDVP:Jitter(Abs)</th>\n",
       "      <th>MDVP:RAP</th>\n",
       "      <th>MDVP:PPQ</th>\n",
       "      <th>Jitter:DDP</th>\n",
       "      <th>MDVP:Shimmer</th>\n",
       "      <th>...</th>\n",
       "      <th>Shimmer:DDA</th>\n",
       "      <th>NHR</th>\n",
       "      <th>HNR</th>\n",
       "      <th>status</th>\n",
       "      <th>RPDE</th>\n",
       "      <th>DFA</th>\n",
       "      <th>spread1</th>\n",
       "      <th>spread2</th>\n",
       "      <th>D2</th>\n",
       "      <th>PPE</th>\n",
       "    </tr>\n",
       "  </thead>\n",
       "  <tbody>\n",
       "    <tr>\n",
       "      <th>72</th>\n",
       "      <td>phon_R01_S19_1</td>\n",
       "      <td>120.080</td>\n",
       "      <td>139.710</td>\n",
       "      <td>111.208</td>\n",
       "      <td>0.00405</td>\n",
       "      <td>0.00003</td>\n",
       "      <td>0.00180</td>\n",
       "      <td>0.00220</td>\n",
       "      <td>0.00540</td>\n",
       "      <td>0.01706</td>\n",
       "      <td>...</td>\n",
       "      <td>0.02921</td>\n",
       "      <td>0.00442</td>\n",
       "      <td>25.742</td>\n",
       "      <td>1</td>\n",
       "      <td>0.495954</td>\n",
       "      <td>0.762959</td>\n",
       "      <td>-5.791820</td>\n",
       "      <td>0.329066</td>\n",
       "      <td>2.205024</td>\n",
       "      <td>0.188180</td>\n",
       "    </tr>\n",
       "    <tr>\n",
       "      <th>142</th>\n",
       "      <td>phon_R01_S34_3</td>\n",
       "      <td>198.458</td>\n",
       "      <td>219.290</td>\n",
       "      <td>148.691</td>\n",
       "      <td>0.00376</td>\n",
       "      <td>0.00002</td>\n",
       "      <td>0.00182</td>\n",
       "      <td>0.00215</td>\n",
       "      <td>0.00546</td>\n",
       "      <td>0.03527</td>\n",
       "      <td>...</td>\n",
       "      <td>0.06165</td>\n",
       "      <td>0.01728</td>\n",
       "      <td>18.702</td>\n",
       "      <td>1</td>\n",
       "      <td>0.606273</td>\n",
       "      <td>0.661735</td>\n",
       "      <td>-5.585259</td>\n",
       "      <td>0.310746</td>\n",
       "      <td>2.465528</td>\n",
       "      <td>0.209863</td>\n",
       "    </tr>\n",
       "    <tr>\n",
       "      <th>0</th>\n",
       "      <td>phon_R01_S01_1</td>\n",
       "      <td>119.992</td>\n",
       "      <td>157.302</td>\n",
       "      <td>74.997</td>\n",
       "      <td>0.00784</td>\n",
       "      <td>0.00007</td>\n",
       "      <td>0.00370</td>\n",
       "      <td>0.00554</td>\n",
       "      <td>0.01109</td>\n",
       "      <td>0.04374</td>\n",
       "      <td>...</td>\n",
       "      <td>0.06545</td>\n",
       "      <td>0.02211</td>\n",
       "      <td>21.033</td>\n",
       "      <td>1</td>\n",
       "      <td>0.414783</td>\n",
       "      <td>0.815285</td>\n",
       "      <td>-4.813031</td>\n",
       "      <td>0.266482</td>\n",
       "      <td>2.301442</td>\n",
       "      <td>0.284654</td>\n",
       "    </tr>\n",
       "    <tr>\n",
       "      <th>97</th>\n",
       "      <td>phon_R01_S24_1</td>\n",
       "      <td>125.036</td>\n",
       "      <td>143.946</td>\n",
       "      <td>116.187</td>\n",
       "      <td>0.01280</td>\n",
       "      <td>0.00010</td>\n",
       "      <td>0.00743</td>\n",
       "      <td>0.00623</td>\n",
       "      <td>0.02228</td>\n",
       "      <td>0.03886</td>\n",
       "      <td>...</td>\n",
       "      <td>0.06406</td>\n",
       "      <td>0.08151</td>\n",
       "      <td>15.338</td>\n",
       "      <td>1</td>\n",
       "      <td>0.629574</td>\n",
       "      <td>0.714485</td>\n",
       "      <td>-4.020042</td>\n",
       "      <td>0.265315</td>\n",
       "      <td>2.671825</td>\n",
       "      <td>0.340623</td>\n",
       "    </tr>\n",
       "    <tr>\n",
       "      <th>109</th>\n",
       "      <td>phon_R01_S26_1</td>\n",
       "      <td>193.030</td>\n",
       "      <td>208.900</td>\n",
       "      <td>80.297</td>\n",
       "      <td>0.00766</td>\n",
       "      <td>0.00004</td>\n",
       "      <td>0.00450</td>\n",
       "      <td>0.00389</td>\n",
       "      <td>0.01351</td>\n",
       "      <td>0.03044</td>\n",
       "      <td>...</td>\n",
       "      <td>0.05312</td>\n",
       "      <td>0.00947</td>\n",
       "      <td>21.934</td>\n",
       "      <td>1</td>\n",
       "      <td>0.497554</td>\n",
       "      <td>0.740539</td>\n",
       "      <td>-5.845099</td>\n",
       "      <td>0.278679</td>\n",
       "      <td>2.608749</td>\n",
       "      <td>0.185668</td>\n",
       "    </tr>\n",
       "  </tbody>\n",
       "</table>\n",
       "<p>5 rows × 24 columns</p>\n",
       "</div>"
      ],
      "text/plain": [
       "               name  MDVP:Fo(Hz)  MDVP:Fhi(Hz)  MDVP:Flo(Hz)  MDVP:Jitter(%)  \\\n",
       "72   phon_R01_S19_1      120.080       139.710       111.208         0.00405   \n",
       "142  phon_R01_S34_3      198.458       219.290       148.691         0.00376   \n",
       "0    phon_R01_S01_1      119.992       157.302        74.997         0.00784   \n",
       "97   phon_R01_S24_1      125.036       143.946       116.187         0.01280   \n",
       "109  phon_R01_S26_1      193.030       208.900        80.297         0.00766   \n",
       "\n",
       "     MDVP:Jitter(Abs)  MDVP:RAP  MDVP:PPQ  Jitter:DDP  MDVP:Shimmer  ...  \\\n",
       "72            0.00003   0.00180   0.00220     0.00540       0.01706  ...   \n",
       "142           0.00002   0.00182   0.00215     0.00546       0.03527  ...   \n",
       "0             0.00007   0.00370   0.00554     0.01109       0.04374  ...   \n",
       "97            0.00010   0.00743   0.00623     0.02228       0.03886  ...   \n",
       "109           0.00004   0.00450   0.00389     0.01351       0.03044  ...   \n",
       "\n",
       "     Shimmer:DDA      NHR     HNR  status      RPDE       DFA   spread1  \\\n",
       "72       0.02921  0.00442  25.742       1  0.495954  0.762959 -5.791820   \n",
       "142      0.06165  0.01728  18.702       1  0.606273  0.661735 -5.585259   \n",
       "0        0.06545  0.02211  21.033       1  0.414783  0.815285 -4.813031   \n",
       "97       0.06406  0.08151  15.338       1  0.629574  0.714485 -4.020042   \n",
       "109      0.05312  0.00947  21.934       1  0.497554  0.740539 -5.845099   \n",
       "\n",
       "      spread2        D2       PPE  \n",
       "72   0.329066  2.205024  0.188180  \n",
       "142  0.310746  2.465528  0.209863  \n",
       "0    0.266482  2.301442  0.284654  \n",
       "97   0.265315  2.671825  0.340623  \n",
       "109  0.278679  2.608749  0.185668  \n",
       "\n",
       "[5 rows x 24 columns]"
      ]
     },
     "execution_count": 8,
     "metadata": {},
     "output_type": "execute_result"
    }
   ],
   "source": [
    "statusOne.sample(5)"
   ]
  },
  {
   "cell_type": "code",
   "execution_count": 9,
   "id": "23afe1f3",
   "metadata": {},
   "outputs": [
    {
     "name": "stdout",
     "output_type": "stream",
     "text": [
      "<class 'pandas.core.frame.DataFrame'>\n",
      "Int64Index: 48 entries, 30 to 194\n",
      "Data columns (total 24 columns):\n",
      " #   Column            Non-Null Count  Dtype  \n",
      "---  ------            --------------  -----  \n",
      " 0   name              48 non-null     object \n",
      " 1   MDVP:Fo(Hz)       48 non-null     float64\n",
      " 2   MDVP:Fhi(Hz)      48 non-null     float64\n",
      " 3   MDVP:Flo(Hz)      48 non-null     float64\n",
      " 4   MDVP:Jitter(%)    48 non-null     float64\n",
      " 5   MDVP:Jitter(Abs)  48 non-null     float64\n",
      " 6   MDVP:RAP          48 non-null     float64\n",
      " 7   MDVP:PPQ          48 non-null     float64\n",
      " 8   Jitter:DDP        48 non-null     float64\n",
      " 9   MDVP:Shimmer      48 non-null     float64\n",
      " 10  MDVP:Shimmer(dB)  48 non-null     float64\n",
      " 11  Shimmer:APQ3      48 non-null     float64\n",
      " 12  Shimmer:APQ5      48 non-null     float64\n",
      " 13  MDVP:APQ          48 non-null     float64\n",
      " 14  Shimmer:DDA       48 non-null     float64\n",
      " 15  NHR               48 non-null     float64\n",
      " 16  HNR               48 non-null     float64\n",
      " 17  status            48 non-null     int64  \n",
      " 18  RPDE              48 non-null     float64\n",
      " 19  DFA               48 non-null     float64\n",
      " 20  spread1           48 non-null     float64\n",
      " 21  spread2           48 non-null     float64\n",
      " 22  D2                48 non-null     float64\n",
      " 23  PPE               48 non-null     float64\n",
      "dtypes: float64(22), int64(1), object(1)\n",
      "memory usage: 9.4+ KB\n"
     ]
    }
   ],
   "source": [
    "# Get status = 0 (not patient) data and set to Dataframe\n",
    "statusZero = parkinson_dataset[parkinson_dataset['status'] == 0]\n",
    "pd.DataFrame(statusZero)\n",
    "statusZero.info()"
   ]
  },
  {
   "cell_type": "code",
   "execution_count": 10,
   "id": "df190ae5",
   "metadata": {
    "scrolled": true
   },
   "outputs": [
    {
     "data": {
      "text/html": [
       "<div>\n",
       "<style scoped>\n",
       "    .dataframe tbody tr th:only-of-type {\n",
       "        vertical-align: middle;\n",
       "    }\n",
       "\n",
       "    .dataframe tbody tr th {\n",
       "        vertical-align: top;\n",
       "    }\n",
       "\n",
       "    .dataframe thead th {\n",
       "        text-align: right;\n",
       "    }\n",
       "</style>\n",
       "<table border=\"1\" class=\"dataframe\">\n",
       "  <thead>\n",
       "    <tr style=\"text-align: right;\">\n",
       "      <th></th>\n",
       "      <th>name</th>\n",
       "      <th>MDVP:Fo(Hz)</th>\n",
       "      <th>MDVP:Fhi(Hz)</th>\n",
       "      <th>MDVP:Flo(Hz)</th>\n",
       "      <th>MDVP:Jitter(%)</th>\n",
       "      <th>MDVP:Jitter(Abs)</th>\n",
       "      <th>MDVP:RAP</th>\n",
       "      <th>MDVP:PPQ</th>\n",
       "      <th>Jitter:DDP</th>\n",
       "      <th>MDVP:Shimmer</th>\n",
       "      <th>...</th>\n",
       "      <th>Shimmer:DDA</th>\n",
       "      <th>NHR</th>\n",
       "      <th>HNR</th>\n",
       "      <th>status</th>\n",
       "      <th>RPDE</th>\n",
       "      <th>DFA</th>\n",
       "      <th>spread1</th>\n",
       "      <th>spread2</th>\n",
       "      <th>D2</th>\n",
       "      <th>PPE</th>\n",
       "    </tr>\n",
       "  </thead>\n",
       "  <tbody>\n",
       "    <tr>\n",
       "      <th>31</th>\n",
       "      <td>phon_R01_S07_2</td>\n",
       "      <td>199.228</td>\n",
       "      <td>209.512</td>\n",
       "      <td>192.091</td>\n",
       "      <td>0.00241</td>\n",
       "      <td>0.00001</td>\n",
       "      <td>0.00134</td>\n",
       "      <td>0.00138</td>\n",
       "      <td>0.00402</td>\n",
       "      <td>0.01015</td>\n",
       "      <td>...</td>\n",
       "      <td>0.01513</td>\n",
       "      <td>0.00167</td>\n",
       "      <td>30.940</td>\n",
       "      <td>0</td>\n",
       "      <td>0.432439</td>\n",
       "      <td>0.742055</td>\n",
       "      <td>-7.682587</td>\n",
       "      <td>0.173319</td>\n",
       "      <td>2.103106</td>\n",
       "      <td>0.068501</td>\n",
       "    </tr>\n",
       "    <tr>\n",
       "      <th>175</th>\n",
       "      <td>phon_R01_S43_5</td>\n",
       "      <td>115.380</td>\n",
       "      <td>123.109</td>\n",
       "      <td>108.634</td>\n",
       "      <td>0.00332</td>\n",
       "      <td>0.00003</td>\n",
       "      <td>0.00160</td>\n",
       "      <td>0.00199</td>\n",
       "      <td>0.00480</td>\n",
       "      <td>0.01503</td>\n",
       "      <td>...</td>\n",
       "      <td>0.02436</td>\n",
       "      <td>0.00401</td>\n",
       "      <td>26.005</td>\n",
       "      <td>0</td>\n",
       "      <td>0.405991</td>\n",
       "      <td>0.761255</td>\n",
       "      <td>-5.966779</td>\n",
       "      <td>0.197938</td>\n",
       "      <td>1.974857</td>\n",
       "      <td>0.184067</td>\n",
       "    </tr>\n",
       "    <tr>\n",
       "      <th>190</th>\n",
       "      <td>phon_R01_S50_2</td>\n",
       "      <td>174.188</td>\n",
       "      <td>230.978</td>\n",
       "      <td>94.261</td>\n",
       "      <td>0.00459</td>\n",
       "      <td>0.00003</td>\n",
       "      <td>0.00263</td>\n",
       "      <td>0.00259</td>\n",
       "      <td>0.00790</td>\n",
       "      <td>0.04087</td>\n",
       "      <td>...</td>\n",
       "      <td>0.07008</td>\n",
       "      <td>0.02764</td>\n",
       "      <td>19.517</td>\n",
       "      <td>0</td>\n",
       "      <td>0.448439</td>\n",
       "      <td>0.657899</td>\n",
       "      <td>-6.538586</td>\n",
       "      <td>0.121952</td>\n",
       "      <td>2.657476</td>\n",
       "      <td>0.133050</td>\n",
       "    </tr>\n",
       "    <tr>\n",
       "      <th>192</th>\n",
       "      <td>phon_R01_S50_4</td>\n",
       "      <td>174.688</td>\n",
       "      <td>240.005</td>\n",
       "      <td>74.287</td>\n",
       "      <td>0.01360</td>\n",
       "      <td>0.00008</td>\n",
       "      <td>0.00624</td>\n",
       "      <td>0.00564</td>\n",
       "      <td>0.01873</td>\n",
       "      <td>0.02308</td>\n",
       "      <td>...</td>\n",
       "      <td>0.03804</td>\n",
       "      <td>0.10715</td>\n",
       "      <td>17.883</td>\n",
       "      <td>0</td>\n",
       "      <td>0.407567</td>\n",
       "      <td>0.655683</td>\n",
       "      <td>-6.787197</td>\n",
       "      <td>0.158453</td>\n",
       "      <td>2.679772</td>\n",
       "      <td>0.131728</td>\n",
       "    </tr>\n",
       "    <tr>\n",
       "      <th>172</th>\n",
       "      <td>phon_R01_S43_2</td>\n",
       "      <td>110.739</td>\n",
       "      <td>113.597</td>\n",
       "      <td>100.139</td>\n",
       "      <td>0.00356</td>\n",
       "      <td>0.00003</td>\n",
       "      <td>0.00170</td>\n",
       "      <td>0.00200</td>\n",
       "      <td>0.00510</td>\n",
       "      <td>0.01484</td>\n",
       "      <td>...</td>\n",
       "      <td>0.02261</td>\n",
       "      <td>0.00430</td>\n",
       "      <td>26.550</td>\n",
       "      <td>0</td>\n",
       "      <td>0.369090</td>\n",
       "      <td>0.776158</td>\n",
       "      <td>-6.085567</td>\n",
       "      <td>0.192375</td>\n",
       "      <td>1.889002</td>\n",
       "      <td>0.174152</td>\n",
       "    </tr>\n",
       "  </tbody>\n",
       "</table>\n",
       "<p>5 rows × 24 columns</p>\n",
       "</div>"
      ],
      "text/plain": [
       "               name  MDVP:Fo(Hz)  MDVP:Fhi(Hz)  MDVP:Flo(Hz)  MDVP:Jitter(%)  \\\n",
       "31   phon_R01_S07_2      199.228       209.512       192.091         0.00241   \n",
       "175  phon_R01_S43_5      115.380       123.109       108.634         0.00332   \n",
       "190  phon_R01_S50_2      174.188       230.978        94.261         0.00459   \n",
       "192  phon_R01_S50_4      174.688       240.005        74.287         0.01360   \n",
       "172  phon_R01_S43_2      110.739       113.597       100.139         0.00356   \n",
       "\n",
       "     MDVP:Jitter(Abs)  MDVP:RAP  MDVP:PPQ  Jitter:DDP  MDVP:Shimmer  ...  \\\n",
       "31            0.00001   0.00134   0.00138     0.00402       0.01015  ...   \n",
       "175           0.00003   0.00160   0.00199     0.00480       0.01503  ...   \n",
       "190           0.00003   0.00263   0.00259     0.00790       0.04087  ...   \n",
       "192           0.00008   0.00624   0.00564     0.01873       0.02308  ...   \n",
       "172           0.00003   0.00170   0.00200     0.00510       0.01484  ...   \n",
       "\n",
       "     Shimmer:DDA      NHR     HNR  status      RPDE       DFA   spread1  \\\n",
       "31       0.01513  0.00167  30.940       0  0.432439  0.742055 -7.682587   \n",
       "175      0.02436  0.00401  26.005       0  0.405991  0.761255 -5.966779   \n",
       "190      0.07008  0.02764  19.517       0  0.448439  0.657899 -6.538586   \n",
       "192      0.03804  0.10715  17.883       0  0.407567  0.655683 -6.787197   \n",
       "172      0.02261  0.00430  26.550       0  0.369090  0.776158 -6.085567   \n",
       "\n",
       "      spread2        D2       PPE  \n",
       "31   0.173319  2.103106  0.068501  \n",
       "175  0.197938  1.974857  0.184067  \n",
       "190  0.121952  2.657476  0.133050  \n",
       "192  0.158453  2.679772  0.131728  \n",
       "172  0.192375  1.889002  0.174152  \n",
       "\n",
       "[5 rows x 24 columns]"
      ]
     },
     "execution_count": 10,
     "metadata": {},
     "output_type": "execute_result"
    }
   ],
   "source": [
    "statusZero.sample(5)"
   ]
  },
  {
   "cell_type": "markdown",
   "id": "5f77c7c8",
   "metadata": {},
   "source": [
    "# <h1 style=\"font-family: Trebuchet MS; padding: 12px; font-size: 24px; color: #6C3483; text-align: center; line-height: 1.25;\">Creating Synthetic data for Parkinson Disease patient (status: 1)</h1>\n",
    "<hr>"
   ]
  },
  {
   "cell_type": "code",
   "execution_count": 11,
   "id": "9f6deeec",
   "metadata": {},
   "outputs": [],
   "source": [
    "columns = statusOne.columns.to_numpy()\n",
    "iteration_count = 10\n",
    "new_df = pd.DataFrame(columns=columns)\n",
    "\n",
    "for i in range(iteration_count):\n",
    "    for k in statusOne.iterrows():\n",
    "        data_obj = {}\n",
    "        for j in range(columns.size):\n",
    "            random_index = np.random.randint(0,5, dtype='int')\n",
    "            data_obj[columns[j]] = statusOne.iloc[random_index][columns[j]]\n",
    "        new_df = new_df.append(data_obj, ignore_index=True)\n",
    "\n",
    "df = parkinson_dataset.append(new_df, ignore_index=True)\n",
    "df.to_csv('expandedOne.csv')"
   ]
  },
  {
   "cell_type": "markdown",
   "id": "00b0ded4",
   "metadata": {},
   "source": [
    "# <h1 style=\"font-family: Trebuchet MS; padding: 12px; font-size: 24px; color: #6C3483; text-align: center; line-height: 1.25;\">Creating Synthetic data for Non Parkinson Disease patient (status: 0)</h1>\n",
    "<hr>"
   ]
  },
  {
   "cell_type": "code",
   "execution_count": 12,
   "id": "e65411f7",
   "metadata": {},
   "outputs": [],
   "source": [
    "columns = statusZero.columns.to_numpy()\n",
    "iteration_count = 10\n",
    "new_df = pd.DataFrame(columns=columns)\n",
    "\n",
    "for i in range(iteration_count):\n",
    "    for k in statusZero.iterrows():\n",
    "        data_obj = {}\n",
    "        for j in range(columns.size):\n",
    "            random_index = np.random.randint(0,5, dtype='int')\n",
    "            data_obj[columns[j]] = statusZero.iloc[random_index][columns[j]]\n",
    "        new_df = new_df.append(data_obj, ignore_index=True)\n",
    "\n",
    "df = parkinson_dataset.append(new_df, ignore_index=True)\n",
    "df.to_csv('expandedZero.csv')"
   ]
  },
  {
   "cell_type": "markdown",
   "id": "fb55d8d9",
   "metadata": {},
   "source": [
    "# <h1 style=\"font-family: Trebuchet MS; padding: 12px; font-size: 24px; color: #6C3483; text-align: center; line-height: 1.25;\">Merge expanded dataset: statusZero and statusOne</h1>\n",
    "<hr>"
   ]
  },
  {
   "cell_type": "code",
   "execution_count": 13,
   "id": "71a264bd",
   "metadata": {},
   "outputs": [
    {
     "name": "stdout",
     "output_type": "stream",
     "text": [
      "<class 'pandas.core.frame.DataFrame'>\n",
      "RangeIndex: 1665 entries, 0 to 1664\n",
      "Data columns (total 24 columns):\n",
      " #   Column            Non-Null Count  Dtype  \n",
      "---  ------            --------------  -----  \n",
      " 0   name              1665 non-null   object \n",
      " 1   MDVP:Fo(Hz)       1665 non-null   float64\n",
      " 2   MDVP:Fhi(Hz)      1665 non-null   float64\n",
      " 3   MDVP:Flo(Hz)      1665 non-null   float64\n",
      " 4   MDVP:Jitter(%)    1665 non-null   float64\n",
      " 5   MDVP:Jitter(Abs)  1665 non-null   float64\n",
      " 6   MDVP:RAP          1665 non-null   float64\n",
      " 7   MDVP:PPQ          1665 non-null   float64\n",
      " 8   Jitter:DDP        1665 non-null   float64\n",
      " 9   MDVP:Shimmer      1665 non-null   float64\n",
      " 10  MDVP:Shimmer(dB)  1665 non-null   float64\n",
      " 11  Shimmer:APQ3      1665 non-null   float64\n",
      " 12  Shimmer:APQ5      1665 non-null   float64\n",
      " 13  MDVP:APQ          1665 non-null   float64\n",
      " 14  Shimmer:DDA       1665 non-null   float64\n",
      " 15  NHR               1665 non-null   float64\n",
      " 16  HNR               1665 non-null   float64\n",
      " 17  status            1665 non-null   int64  \n",
      " 18  RPDE              1665 non-null   float64\n",
      " 19  DFA               1665 non-null   float64\n",
      " 20  spread1           1665 non-null   float64\n",
      " 21  spread2           1665 non-null   float64\n",
      " 22  D2                1665 non-null   float64\n",
      " 23  PPE               1665 non-null   float64\n",
      "dtypes: float64(22), int64(1), object(1)\n",
      "memory usage: 312.3+ KB\n"
     ]
    }
   ],
   "source": [
    "# Info of expandedOne\n",
    "expand1 = pd.read_csv('expandedOne.csv')\n",
    "expand1.drop(['Unnamed: 0'], axis=1, inplace=True)\n",
    "expand1.info()"
   ]
  },
  {
   "cell_type": "code",
   "execution_count": 14,
   "id": "5c1062aa",
   "metadata": {},
   "outputs": [
    {
     "name": "stdout",
     "output_type": "stream",
     "text": [
      "<class 'pandas.core.frame.DataFrame'>\n",
      "RangeIndex: 675 entries, 0 to 674\n",
      "Data columns (total 24 columns):\n",
      " #   Column            Non-Null Count  Dtype  \n",
      "---  ------            --------------  -----  \n",
      " 0   name              675 non-null    object \n",
      " 1   MDVP:Fo(Hz)       675 non-null    float64\n",
      " 2   MDVP:Fhi(Hz)      675 non-null    float64\n",
      " 3   MDVP:Flo(Hz)      675 non-null    float64\n",
      " 4   MDVP:Jitter(%)    675 non-null    float64\n",
      " 5   MDVP:Jitter(Abs)  675 non-null    float64\n",
      " 6   MDVP:RAP          675 non-null    float64\n",
      " 7   MDVP:PPQ          675 non-null    float64\n",
      " 8   Jitter:DDP        675 non-null    float64\n",
      " 9   MDVP:Shimmer      675 non-null    float64\n",
      " 10  MDVP:Shimmer(dB)  675 non-null    float64\n",
      " 11  Shimmer:APQ3      675 non-null    float64\n",
      " 12  Shimmer:APQ5      675 non-null    float64\n",
      " 13  MDVP:APQ          675 non-null    float64\n",
      " 14  Shimmer:DDA       675 non-null    float64\n",
      " 15  NHR               675 non-null    float64\n",
      " 16  HNR               675 non-null    float64\n",
      " 17  status            675 non-null    int64  \n",
      " 18  RPDE              675 non-null    float64\n",
      " 19  DFA               675 non-null    float64\n",
      " 20  spread1           675 non-null    float64\n",
      " 21  spread2           675 non-null    float64\n",
      " 22  D2                675 non-null    float64\n",
      " 23  PPE               675 non-null    float64\n",
      "dtypes: float64(22), int64(1), object(1)\n",
      "memory usage: 126.7+ KB\n"
     ]
    }
   ],
   "source": [
    "# Info of expandZero\n",
    "expand0 = pd.read_csv('expandedZero.csv')\n",
    "expand0.drop(['Unnamed: 0'], axis=1, inplace=True)\n",
    "expand0.info()"
   ]
  },
  {
   "cell_type": "code",
   "execution_count": 15,
   "id": "8bea200f",
   "metadata": {},
   "outputs": [],
   "source": [
    "# Concat two dataframe\n",
    "frames = [expand0, expand1]\n",
    "\n",
    "finalDF = pd.concat(frames)"
   ]
  },
  {
   "cell_type": "markdown",
   "id": "bf56c22e",
   "metadata": {},
   "source": [
    "# <h1 style=\"font-family: Trebuchet MS; padding: 12px; font-size: 32px; color: #6C3483; text-align: center; line-height: 1.25;\">Reading Expanded dataset after creating and concat data</h1>\n",
    "<hr>"
   ]
  },
  {
   "cell_type": "code",
   "execution_count": 16,
   "id": "c9250553",
   "metadata": {},
   "outputs": [
    {
     "data": {
      "text/html": [
       "<div>\n",
       "<style scoped>\n",
       "    .dataframe tbody tr th:only-of-type {\n",
       "        vertical-align: middle;\n",
       "    }\n",
       "\n",
       "    .dataframe tbody tr th {\n",
       "        vertical-align: top;\n",
       "    }\n",
       "\n",
       "    .dataframe thead th {\n",
       "        text-align: right;\n",
       "    }\n",
       "</style>\n",
       "<table border=\"1\" class=\"dataframe\">\n",
       "  <thead>\n",
       "    <tr style=\"text-align: right;\">\n",
       "      <th></th>\n",
       "      <th>name</th>\n",
       "      <th>MDVP:Fo(Hz)</th>\n",
       "      <th>MDVP:Fhi(Hz)</th>\n",
       "      <th>MDVP:Flo(Hz)</th>\n",
       "      <th>MDVP:Jitter(%)</th>\n",
       "      <th>MDVP:Jitter(Abs)</th>\n",
       "      <th>MDVP:RAP</th>\n",
       "      <th>MDVP:PPQ</th>\n",
       "      <th>Jitter:DDP</th>\n",
       "      <th>MDVP:Shimmer</th>\n",
       "      <th>...</th>\n",
       "      <th>Shimmer:DDA</th>\n",
       "      <th>NHR</th>\n",
       "      <th>HNR</th>\n",
       "      <th>status</th>\n",
       "      <th>RPDE</th>\n",
       "      <th>DFA</th>\n",
       "      <th>spread1</th>\n",
       "      <th>spread2</th>\n",
       "      <th>D2</th>\n",
       "      <th>PPE</th>\n",
       "    </tr>\n",
       "  </thead>\n",
       "  <tbody>\n",
       "    <tr>\n",
       "      <th>633</th>\n",
       "      <td>phon_R01_S01_5</td>\n",
       "      <td>116.014</td>\n",
       "      <td>131.111</td>\n",
       "      <td>111.555</td>\n",
       "      <td>0.00968</td>\n",
       "      <td>0.000090</td>\n",
       "      <td>0.00544</td>\n",
       "      <td>0.00696</td>\n",
       "      <td>0.01505</td>\n",
       "      <td>0.06134</td>\n",
       "      <td>...</td>\n",
       "      <td>0.08270</td>\n",
       "      <td>0.01309</td>\n",
       "      <td>20.644</td>\n",
       "      <td>1</td>\n",
       "      <td>0.417356</td>\n",
       "      <td>0.823484</td>\n",
       "      <td>-4.075192</td>\n",
       "      <td>0.335590</td>\n",
       "      <td>2.486855</td>\n",
       "      <td>0.368975</td>\n",
       "    </tr>\n",
       "    <tr>\n",
       "      <th>86</th>\n",
       "      <td>phon_R01_S21_3</td>\n",
       "      <td>178.222</td>\n",
       "      <td>202.450</td>\n",
       "      <td>141.047</td>\n",
       "      <td>0.00321</td>\n",
       "      <td>0.000020</td>\n",
       "      <td>0.00163</td>\n",
       "      <td>0.00194</td>\n",
       "      <td>0.00488</td>\n",
       "      <td>0.03759</td>\n",
       "      <td>...</td>\n",
       "      <td>0.06219</td>\n",
       "      <td>0.03151</td>\n",
       "      <td>15.924</td>\n",
       "      <td>1</td>\n",
       "      <td>0.598714</td>\n",
       "      <td>0.712199</td>\n",
       "      <td>-6.366916</td>\n",
       "      <td>0.335753</td>\n",
       "      <td>2.654271</td>\n",
       "      <td>0.144614</td>\n",
       "    </tr>\n",
       "    <tr>\n",
       "      <th>1343</th>\n",
       "      <td>phon_R01_S01_5</td>\n",
       "      <td>122.400</td>\n",
       "      <td>157.302</td>\n",
       "      <td>74.997</td>\n",
       "      <td>0.00997</td>\n",
       "      <td>0.000080</td>\n",
       "      <td>0.00465</td>\n",
       "      <td>0.00781</td>\n",
       "      <td>0.01505</td>\n",
       "      <td>0.06134</td>\n",
       "      <td>...</td>\n",
       "      <td>0.06545</td>\n",
       "      <td>0.01929</td>\n",
       "      <td>20.644</td>\n",
       "      <td>1</td>\n",
       "      <td>0.414783</td>\n",
       "      <td>0.815285</td>\n",
       "      <td>-3.747787</td>\n",
       "      <td>0.335590</td>\n",
       "      <td>2.342259</td>\n",
       "      <td>0.368975</td>\n",
       "    </tr>\n",
       "    <tr>\n",
       "      <th>138</th>\n",
       "      <td>phon_R01_S33_5</td>\n",
       "      <td>112.239</td>\n",
       "      <td>126.609</td>\n",
       "      <td>104.095</td>\n",
       "      <td>0.00472</td>\n",
       "      <td>0.000040</td>\n",
       "      <td>0.00238</td>\n",
       "      <td>0.00290</td>\n",
       "      <td>0.00715</td>\n",
       "      <td>0.05643</td>\n",
       "      <td>...</td>\n",
       "      <td>0.09211</td>\n",
       "      <td>0.02629</td>\n",
       "      <td>17.366</td>\n",
       "      <td>1</td>\n",
       "      <td>0.640945</td>\n",
       "      <td>0.701404</td>\n",
       "      <td>-5.634576</td>\n",
       "      <td>0.306014</td>\n",
       "      <td>2.419253</td>\n",
       "      <td>0.209191</td>\n",
       "    </tr>\n",
       "    <tr>\n",
       "      <th>715</th>\n",
       "      <td>phon_R01_S01_4</td>\n",
       "      <td>116.682</td>\n",
       "      <td>148.650</td>\n",
       "      <td>74.997</td>\n",
       "      <td>0.00784</td>\n",
       "      <td>0.000080</td>\n",
       "      <td>0.00544</td>\n",
       "      <td>0.00698</td>\n",
       "      <td>0.01505</td>\n",
       "      <td>0.06134</td>\n",
       "      <td>...</td>\n",
       "      <td>0.10470</td>\n",
       "      <td>0.01767</td>\n",
       "      <td>21.033</td>\n",
       "      <td>1</td>\n",
       "      <td>0.458359</td>\n",
       "      <td>0.819235</td>\n",
       "      <td>-3.747787</td>\n",
       "      <td>0.234513</td>\n",
       "      <td>2.342259</td>\n",
       "      <td>0.284654</td>\n",
       "    </tr>\n",
       "    <tr>\n",
       "      <th>461</th>\n",
       "      <td>phon_R01_S07_2</td>\n",
       "      <td>199.228</td>\n",
       "      <td>211.604</td>\n",
       "      <td>197.079</td>\n",
       "      <td>0.00180</td>\n",
       "      <td>0.000010</td>\n",
       "      <td>0.00134</td>\n",
       "      <td>0.00138</td>\n",
       "      <td>0.00498</td>\n",
       "      <td>0.01015</td>\n",
       "      <td>...</td>\n",
       "      <td>0.01689</td>\n",
       "      <td>0.00065</td>\n",
       "      <td>30.940</td>\n",
       "      <td>0</td>\n",
       "      <td>0.340068</td>\n",
       "      <td>0.741899</td>\n",
       "      <td>-7.964984</td>\n",
       "      <td>0.177551</td>\n",
       "      <td>1.544609</td>\n",
       "      <td>0.068501</td>\n",
       "    </tr>\n",
       "    <tr>\n",
       "      <th>783</th>\n",
       "      <td>phon_R01_S01_2</td>\n",
       "      <td>122.400</td>\n",
       "      <td>148.650</td>\n",
       "      <td>111.555</td>\n",
       "      <td>0.00784</td>\n",
       "      <td>0.000080</td>\n",
       "      <td>0.00370</td>\n",
       "      <td>0.00908</td>\n",
       "      <td>0.01966</td>\n",
       "      <td>0.04374</td>\n",
       "      <td>...</td>\n",
       "      <td>0.10470</td>\n",
       "      <td>0.01929</td>\n",
       "      <td>21.033</td>\n",
       "      <td>1</td>\n",
       "      <td>0.434969</td>\n",
       "      <td>0.823484</td>\n",
       "      <td>-4.117501</td>\n",
       "      <td>0.334147</td>\n",
       "      <td>2.405554</td>\n",
       "      <td>0.368674</td>\n",
       "    </tr>\n",
       "    <tr>\n",
       "      <th>418</th>\n",
       "      <td>phon_R01_S07_5</td>\n",
       "      <td>202.266</td>\n",
       "      <td>211.604</td>\n",
       "      <td>192.055</td>\n",
       "      <td>0.00180</td>\n",
       "      <td>0.000009</td>\n",
       "      <td>0.00094</td>\n",
       "      <td>0.00106</td>\n",
       "      <td>0.00278</td>\n",
       "      <td>0.00954</td>\n",
       "      <td>...</td>\n",
       "      <td>0.01513</td>\n",
       "      <td>0.00065</td>\n",
       "      <td>30.940</td>\n",
       "      <td>0</td>\n",
       "      <td>0.422229</td>\n",
       "      <td>0.738703</td>\n",
       "      <td>-7.964984</td>\n",
       "      <td>0.163519</td>\n",
       "      <td>1.743867</td>\n",
       "      <td>0.096320</td>\n",
       "    </tr>\n",
       "    <tr>\n",
       "      <th>1222</th>\n",
       "      <td>phon_R01_S01_4</td>\n",
       "      <td>119.992</td>\n",
       "      <td>141.781</td>\n",
       "      <td>110.655</td>\n",
       "      <td>0.01050</td>\n",
       "      <td>0.000110</td>\n",
       "      <td>0.00502</td>\n",
       "      <td>0.00554</td>\n",
       "      <td>0.01966</td>\n",
       "      <td>0.05492</td>\n",
       "      <td>...</td>\n",
       "      <td>0.09403</td>\n",
       "      <td>0.02211</td>\n",
       "      <td>20.644</td>\n",
       "      <td>1</td>\n",
       "      <td>0.414783</td>\n",
       "      <td>0.815285</td>\n",
       "      <td>-4.443179</td>\n",
       "      <td>0.234513</td>\n",
       "      <td>2.405554</td>\n",
       "      <td>0.410335</td>\n",
       "    </tr>\n",
       "    <tr>\n",
       "      <th>264</th>\n",
       "      <td>phon_R01_S07_2</td>\n",
       "      <td>199.228</td>\n",
       "      <td>211.604</td>\n",
       "      <td>192.091</td>\n",
       "      <td>0.00180</td>\n",
       "      <td>0.000009</td>\n",
       "      <td>0.00093</td>\n",
       "      <td>0.00107</td>\n",
       "      <td>0.00402</td>\n",
       "      <td>0.00958</td>\n",
       "      <td>...</td>\n",
       "      <td>0.01407</td>\n",
       "      <td>0.00065</td>\n",
       "      <td>26.775</td>\n",
       "      <td>0</td>\n",
       "      <td>0.422229</td>\n",
       "      <td>0.738703</td>\n",
       "      <td>-7.695734</td>\n",
       "      <td>0.178540</td>\n",
       "      <td>1.743867</td>\n",
       "      <td>0.096320</td>\n",
       "    </tr>\n",
       "  </tbody>\n",
       "</table>\n",
       "<p>10 rows × 24 columns</p>\n",
       "</div>"
      ],
      "text/plain": [
       "                name  MDVP:Fo(Hz)  MDVP:Fhi(Hz)  MDVP:Flo(Hz)  MDVP:Jitter(%)  \\\n",
       "633   phon_R01_S01_5      116.014       131.111       111.555         0.00968   \n",
       "86    phon_R01_S21_3      178.222       202.450       141.047         0.00321   \n",
       "1343  phon_R01_S01_5      122.400       157.302        74.997         0.00997   \n",
       "138   phon_R01_S33_5      112.239       126.609       104.095         0.00472   \n",
       "715   phon_R01_S01_4      116.682       148.650        74.997         0.00784   \n",
       "461   phon_R01_S07_2      199.228       211.604       197.079         0.00180   \n",
       "783   phon_R01_S01_2      122.400       148.650       111.555         0.00784   \n",
       "418   phon_R01_S07_5      202.266       211.604       192.055         0.00180   \n",
       "1222  phon_R01_S01_4      119.992       141.781       110.655         0.01050   \n",
       "264   phon_R01_S07_2      199.228       211.604       192.091         0.00180   \n",
       "\n",
       "      MDVP:Jitter(Abs)  MDVP:RAP  MDVP:PPQ  Jitter:DDP  MDVP:Shimmer  ...  \\\n",
       "633           0.000090   0.00544   0.00696     0.01505       0.06134  ...   \n",
       "86            0.000020   0.00163   0.00194     0.00488       0.03759  ...   \n",
       "1343          0.000080   0.00465   0.00781     0.01505       0.06134  ...   \n",
       "138           0.000040   0.00238   0.00290     0.00715       0.05643  ...   \n",
       "715           0.000080   0.00544   0.00698     0.01505       0.06134  ...   \n",
       "461           0.000010   0.00134   0.00138     0.00498       0.01015  ...   \n",
       "783           0.000080   0.00370   0.00908     0.01966       0.04374  ...   \n",
       "418           0.000009   0.00094   0.00106     0.00278       0.00954  ...   \n",
       "1222          0.000110   0.00502   0.00554     0.01966       0.05492  ...   \n",
       "264           0.000009   0.00093   0.00107     0.00402       0.00958  ...   \n",
       "\n",
       "      Shimmer:DDA      NHR     HNR  status      RPDE       DFA   spread1  \\\n",
       "633       0.08270  0.01309  20.644       1  0.417356  0.823484 -4.075192   \n",
       "86        0.06219  0.03151  15.924       1  0.598714  0.712199 -6.366916   \n",
       "1343      0.06545  0.01929  20.644       1  0.414783  0.815285 -3.747787   \n",
       "138       0.09211  0.02629  17.366       1  0.640945  0.701404 -5.634576   \n",
       "715       0.10470  0.01767  21.033       1  0.458359  0.819235 -3.747787   \n",
       "461       0.01689  0.00065  30.940       0  0.340068  0.741899 -7.964984   \n",
       "783       0.10470  0.01929  21.033       1  0.434969  0.823484 -4.117501   \n",
       "418       0.01513  0.00065  30.940       0  0.422229  0.738703 -7.964984   \n",
       "1222      0.09403  0.02211  20.644       1  0.414783  0.815285 -4.443179   \n",
       "264       0.01407  0.00065  26.775       0  0.422229  0.738703 -7.695734   \n",
       "\n",
       "       spread2        D2       PPE  \n",
       "633   0.335590  2.486855  0.368975  \n",
       "86    0.335753  2.654271  0.144614  \n",
       "1343  0.335590  2.342259  0.368975  \n",
       "138   0.306014  2.419253  0.209191  \n",
       "715   0.234513  2.342259  0.284654  \n",
       "461   0.177551  1.544609  0.068501  \n",
       "783   0.334147  2.405554  0.368674  \n",
       "418   0.163519  1.743867  0.096320  \n",
       "1222  0.234513  2.405554  0.410335  \n",
       "264   0.178540  1.743867  0.096320  \n",
       "\n",
       "[10 rows x 24 columns]"
      ]
     },
     "execution_count": 16,
     "metadata": {},
     "output_type": "execute_result"
    }
   ],
   "source": [
    "finalDF.sample(10)"
   ]
  },
  {
   "cell_type": "markdown",
   "id": "6ff7e60e",
   "metadata": {},
   "source": [
    "# <h1 style=\"font-family: Trebuchet MS; padding: 12px; font-size: 32px; color: #6C3483; text-align: center; line-height: 1.25;\">Shape of Expanded Dataset</h1>\n",
    "<hr>"
   ]
  },
  {
   "cell_type": "code",
   "execution_count": 17,
   "id": "582f0100",
   "metadata": {},
   "outputs": [
    {
     "data": {
      "text/plain": [
       "(2340, 24)"
      ]
     },
     "execution_count": 17,
     "metadata": {},
     "output_type": "execute_result"
    }
   ],
   "source": [
    "finalDF.shape"
   ]
  },
  {
   "cell_type": "markdown",
   "id": "4f2df067",
   "metadata": {},
   "source": [
    "# <h1 style=\"font-family: Trebuchet MS; padding: 12px; font-size: 18px; color: #6C3483; text-align: center; line-height: 1.25;\"><b style=\"color: #000000;\">Note:</b> Now, we can see from above info that, the rows of dataset have been increased</h1>\n",
    "<hr>"
   ]
  },
  {
   "cell_type": "markdown",
   "id": "f7d4db52",
   "metadata": {},
   "source": [
    "# <h1 style=\"font-family: Trebuchet MS; padding: 12px; font-size: 32px; color: #6C3483; text-align: center; line-height: 1.25;\">Checking Duplicated & Null Values</h1>\n",
    "<hr>"
   ]
  },
  {
   "cell_type": "code",
   "execution_count": 18,
   "id": "37dae21b",
   "metadata": {},
   "outputs": [],
   "source": [
    "finalDF = finalDF[~finalDF.index.duplicated(keep='first')]"
   ]
  },
  {
   "cell_type": "code",
   "execution_count": 19,
   "id": "cafff36b",
   "metadata": {},
   "outputs": [
    {
     "data": {
      "text/plain": [
       "0"
      ]
     },
     "execution_count": 19,
     "metadata": {},
     "output_type": "execute_result"
    }
   ],
   "source": [
    "finalDF.index.duplicated().sum()"
   ]
  },
  {
   "cell_type": "code",
   "execution_count": 20,
   "id": "95ae54bf",
   "metadata": {},
   "outputs": [
    {
     "name": "stdout",
     "output_type": "stream",
     "text": [
      "<class 'pandas.core.frame.DataFrame'>\n",
      "Int64Index: 1665 entries, 0 to 1664\n",
      "Data columns (total 24 columns):\n",
      " #   Column            Non-Null Count  Dtype  \n",
      "---  ------            --------------  -----  \n",
      " 0   name              1665 non-null   object \n",
      " 1   MDVP:Fo(Hz)       1665 non-null   float64\n",
      " 2   MDVP:Fhi(Hz)      1665 non-null   float64\n",
      " 3   MDVP:Flo(Hz)      1665 non-null   float64\n",
      " 4   MDVP:Jitter(%)    1665 non-null   float64\n",
      " 5   MDVP:Jitter(Abs)  1665 non-null   float64\n",
      " 6   MDVP:RAP          1665 non-null   float64\n",
      " 7   MDVP:PPQ          1665 non-null   float64\n",
      " 8   Jitter:DDP        1665 non-null   float64\n",
      " 9   MDVP:Shimmer      1665 non-null   float64\n",
      " 10  MDVP:Shimmer(dB)  1665 non-null   float64\n",
      " 11  Shimmer:APQ3      1665 non-null   float64\n",
      " 12  Shimmer:APQ5      1665 non-null   float64\n",
      " 13  MDVP:APQ          1665 non-null   float64\n",
      " 14  Shimmer:DDA       1665 non-null   float64\n",
      " 15  NHR               1665 non-null   float64\n",
      " 16  HNR               1665 non-null   float64\n",
      " 17  status            1665 non-null   int64  \n",
      " 18  RPDE              1665 non-null   float64\n",
      " 19  DFA               1665 non-null   float64\n",
      " 20  spread1           1665 non-null   float64\n",
      " 21  spread2           1665 non-null   float64\n",
      " 22  D2                1665 non-null   float64\n",
      " 23  PPE               1665 non-null   float64\n",
      "dtypes: float64(22), int64(1), object(1)\n",
      "memory usage: 389.7+ KB\n"
     ]
    }
   ],
   "source": [
    "finalDF.info()"
   ]
  },
  {
   "cell_type": "code",
   "execution_count": 21,
   "id": "3eac8129",
   "metadata": {},
   "outputs": [
    {
     "data": {
      "text/plain": [
       "name                0\n",
       "MDVP:Fo(Hz)         0\n",
       "MDVP:Fhi(Hz)        0\n",
       "MDVP:Flo(Hz)        0\n",
       "MDVP:Jitter(%)      0\n",
       "MDVP:Jitter(Abs)    0\n",
       "MDVP:RAP            0\n",
       "MDVP:PPQ            0\n",
       "Jitter:DDP          0\n",
       "MDVP:Shimmer        0\n",
       "MDVP:Shimmer(dB)    0\n",
       "Shimmer:APQ3        0\n",
       "Shimmer:APQ5        0\n",
       "MDVP:APQ            0\n",
       "Shimmer:DDA         0\n",
       "NHR                 0\n",
       "HNR                 0\n",
       "status              0\n",
       "RPDE                0\n",
       "DFA                 0\n",
       "spread1             0\n",
       "spread2             0\n",
       "D2                  0\n",
       "PPE                 0\n",
       "dtype: int64"
      ]
     },
     "execution_count": 21,
     "metadata": {},
     "output_type": "execute_result"
    }
   ],
   "source": [
    "finalDF.isnull().sum()"
   ]
  },
  {
   "cell_type": "markdown",
   "id": "149b6d23",
   "metadata": {},
   "source": [
    "# <h1 style=\"font-family: Trebuchet MS; padding: 12px; font-size: 32px; color: #6C3483; text-align: center; line-height: 1.25;\">Visualization among Dataset Attributes</h1>\n",
    "<hr>"
   ]
  },
  {
   "cell_type": "code",
   "execution_count": 22,
   "id": "adeb87c1",
   "metadata": {},
   "outputs": [
    {
     "data": {
      "text/plain": [
       "<matplotlib.patches.Circle at 0x2831a62b550>"
      ]
     },
     "execution_count": 22,
     "metadata": {},
     "output_type": "execute_result"
    },
    {
     "data": {
      "image/png": "[encoded data removed]",
      "text/plain": [
       "<Figure size 1152x648 with 1 Axes>"
      ]
     },
     "metadata": {},
     "output_type": "display_data"
    }
   ],
   "source": [
    "labels=['Patient', 'Non-patient']\n",
    "\n",
    "order=finalDF['status'].value_counts().index\n",
    "\n",
    "colors = ['#5B2C6F','#A569BD']\n",
    "\n",
    "plt.figure(figsize=(16, 9))\n",
    "plt.suptitle('Status Type Distribution (1: Patient, 0: Non-patient)', fontweight='heavy', fontsize=16, \n",
    "             fontfamily='sans-serif')\n",
    "\n",
    "plt.title('Pie Chart', fontweight='bold', fontsize=14,fontfamily='sans-serif')\n",
    "plt.pie(finalDF['status'].value_counts(), labels=labels, pctdistance=0.7, \n",
    "        autopct='%.2f%%', textprops={'fontsize':12}, colors=colors, wedgeprops=dict(alpha=0.8))\n",
    "centre=plt.Circle((0, 0), 0.45, fc='white')\n",
    "plt.gcf().gca().add_artist(centre)"
   ]
  },
  {
   "cell_type": "code",
   "execution_count": 23,
   "id": "0a78e909",
   "metadata": {},
   "outputs": [
    {
     "data": {
      "image/png": "[encoded data removed]",
      "text/plain": [
       "<Figure size 1440x1440 with 25 Axes>"
      ]
     },
     "metadata": {
      "needs_background": "light"
     },
     "output_type": "display_data"
    }
   ],
   "source": [
    "fig = plt.figure(figsize = (20,20))\n",
    "ax = fig.gca()\n",
    "finalDF.hist(ax=ax, color = \"#6C3483\")\n",
    "plt.show()"
   ]
  },
  {
   "cell_type": "markdown",
   "id": "3aac9d28",
   "metadata": {},
   "source": [
    "# <h1 style=\"font-family: Trebuchet MS; padding: 12px; font-size: 32px; color: #6C3483; text-align: center; line-height: 1.25;\">Dataset Description</h1>\n",
    "<hr>"
   ]
  },
  {
   "cell_type": "code",
   "execution_count": 24,
   "id": "d0a950b9",
   "metadata": {},
   "outputs": [
    {
     "data": {
      "text/html": [
       "<div>\n",
       "<style scoped>\n",
       "    .dataframe tbody tr th:only-of-type {\n",
       "        vertical-align: middle;\n",
       "    }\n",
       "\n",
       "    .dataframe tbody tr th {\n",
       "        vertical-align: top;\n",
       "    }\n",
       "\n",
       "    .dataframe thead th {\n",
       "        text-align: right;\n",
       "    }\n",
       "</style>\n",
       "<table border=\"1\" class=\"dataframe\">\n",
       "  <thead>\n",
       "    <tr style=\"text-align: right;\">\n",
       "      <th></th>\n",
       "      <th>MDVP:Fo(Hz)</th>\n",
       "      <th>MDVP:Fhi(Hz)</th>\n",
       "      <th>MDVP:Flo(Hz)</th>\n",
       "      <th>MDVP:Jitter(%)</th>\n",
       "      <th>MDVP:Jitter(Abs)</th>\n",
       "      <th>MDVP:RAP</th>\n",
       "      <th>MDVP:PPQ</th>\n",
       "      <th>Jitter:DDP</th>\n",
       "      <th>MDVP:Shimmer</th>\n",
       "      <th>MDVP:Shimmer(dB)</th>\n",
       "      <th>...</th>\n",
       "      <th>Shimmer:DDA</th>\n",
       "      <th>NHR</th>\n",
       "      <th>HNR</th>\n",
       "      <th>status</th>\n",
       "      <th>RPDE</th>\n",
       "      <th>DFA</th>\n",
       "      <th>spread1</th>\n",
       "      <th>spread2</th>\n",
       "      <th>D2</th>\n",
       "      <th>PPE</th>\n",
       "    </tr>\n",
       "  </thead>\n",
       "  <tbody>\n",
       "    <tr>\n",
       "      <th>count</th>\n",
       "      <td>1665.000000</td>\n",
       "      <td>1665.000000</td>\n",
       "      <td>1665.000000</td>\n",
       "      <td>1665.000000</td>\n",
       "      <td>1665.000000</td>\n",
       "      <td>1665.000000</td>\n",
       "      <td>1665.000000</td>\n",
       "      <td>1665.000000</td>\n",
       "      <td>1665.000000</td>\n",
       "      <td>1665.000000</td>\n",
       "      <td>...</td>\n",
       "      <td>1665.000000</td>\n",
       "      <td>1665.000000</td>\n",
       "      <td>1665.000000</td>\n",
       "      <td>1665.000000</td>\n",
       "      <td>1665.000000</td>\n",
       "      <td>1665.000000</td>\n",
       "      <td>1665.000000</td>\n",
       "      <td>1665.000000</td>\n",
       "      <td>1665.000000</td>\n",
       "      <td>1665.000000</td>\n",
       "    </tr>\n",
       "    <tr>\n",
       "      <th>mean</th>\n",
       "      <td>146.083079</td>\n",
       "      <td>169.184953</td>\n",
       "      <td>131.829598</td>\n",
       "      <td>0.007429</td>\n",
       "      <td>0.000060</td>\n",
       "      <td>0.003774</td>\n",
       "      <td>0.005074</td>\n",
       "      <td>0.011387</td>\n",
       "      <td>0.039552</td>\n",
       "      <td>0.374841</td>\n",
       "      <td>...</td>\n",
       "      <td>0.061721</td>\n",
       "      <td>0.013589</td>\n",
       "      <td>23.426851</td>\n",
       "      <td>0.682883</td>\n",
       "      <td>0.431054</td>\n",
       "      <td>0.785707</td>\n",
       "      <td>-5.363439</td>\n",
       "      <td>0.252474</td>\n",
       "      <td>2.170642</td>\n",
       "      <td>0.254506</td>\n",
       "    </tr>\n",
       "    <tr>\n",
       "      <th>std</th>\n",
       "      <td>38.827845</td>\n",
       "      <td>44.926220</td>\n",
       "      <td>44.058666</td>\n",
       "      <td>0.004115</td>\n",
       "      <td>0.000038</td>\n",
       "      <td>0.002144</td>\n",
       "      <td>0.002980</td>\n",
       "      <td>0.006460</td>\n",
       "      <td>0.021961</td>\n",
       "      <td>0.213903</td>\n",
       "      <td>...</td>\n",
       "      <td>0.034904</td>\n",
       "      <td>0.016181</td>\n",
       "      <td>5.067272</td>\n",
       "      <td>0.465493</td>\n",
       "      <td>0.052958</td>\n",
       "      <td>0.046824</td>\n",
       "      <td>1.547610</td>\n",
       "      <td>0.068880</td>\n",
       "      <td>0.375168</td>\n",
       "      <td>0.133744</td>\n",
       "    </tr>\n",
       "    <tr>\n",
       "      <th>min</th>\n",
       "      <td>88.333000</td>\n",
       "      <td>102.145000</td>\n",
       "      <td>65.476000</td>\n",
       "      <td>0.001680</td>\n",
       "      <td>0.000007</td>\n",
       "      <td>0.000680</td>\n",
       "      <td>0.000920</td>\n",
       "      <td>0.002040</td>\n",
       "      <td>0.009540</td>\n",
       "      <td>0.085000</td>\n",
       "      <td>...</td>\n",
       "      <td>0.013640</td>\n",
       "      <td>0.000650</td>\n",
       "      <td>8.441000</td>\n",
       "      <td>0.000000</td>\n",
       "      <td>0.256570</td>\n",
       "      <td>0.574282</td>\n",
       "      <td>-7.964984</td>\n",
       "      <td>0.006274</td>\n",
       "      <td>1.423287</td>\n",
       "      <td>0.044539</td>\n",
       "    </tr>\n",
       "    <tr>\n",
       "      <th>25%</th>\n",
       "      <td>116.676000</td>\n",
       "      <td>137.871000</td>\n",
       "      <td>110.655000</td>\n",
       "      <td>0.002890</td>\n",
       "      <td>0.000010</td>\n",
       "      <td>0.001440</td>\n",
       "      <td>0.001480</td>\n",
       "      <td>0.004960</td>\n",
       "      <td>0.011520</td>\n",
       "      <td>0.111000</td>\n",
       "      <td>...</td>\n",
       "      <td>0.019190</td>\n",
       "      <td>0.003390</td>\n",
       "      <td>19.649000</td>\n",
       "      <td>0.000000</td>\n",
       "      <td>0.414783</td>\n",
       "      <td>0.741899</td>\n",
       "      <td>-7.067931</td>\n",
       "      <td>0.177551</td>\n",
       "      <td>2.007923</td>\n",
       "      <td>0.096320</td>\n",
       "    </tr>\n",
       "    <tr>\n",
       "      <th>50%</th>\n",
       "      <td>119.992000</td>\n",
       "      <td>148.650000</td>\n",
       "      <td>111.555000</td>\n",
       "      <td>0.007840</td>\n",
       "      <td>0.000070</td>\n",
       "      <td>0.004650</td>\n",
       "      <td>0.005540</td>\n",
       "      <td>0.013940</td>\n",
       "      <td>0.043740</td>\n",
       "      <td>0.482000</td>\n",
       "      <td>...</td>\n",
       "      <td>0.065450</td>\n",
       "      <td>0.013530</td>\n",
       "      <td>20.651000</td>\n",
       "      <td>1.000000</td>\n",
       "      <td>0.429895</td>\n",
       "      <td>0.815285</td>\n",
       "      <td>-4.813031</td>\n",
       "      <td>0.266482</td>\n",
       "      <td>2.332180</td>\n",
       "      <td>0.284654</td>\n",
       "    </tr>\n",
       "    <tr>\n",
       "      <th>75%</th>\n",
       "      <td>197.076000</td>\n",
       "      <td>209.512000</td>\n",
       "      <td>192.055000</td>\n",
       "      <td>0.010500</td>\n",
       "      <td>0.000090</td>\n",
       "      <td>0.005440</td>\n",
       "      <td>0.006980</td>\n",
       "      <td>0.016330</td>\n",
       "      <td>0.061340</td>\n",
       "      <td>0.584000</td>\n",
       "      <td>...</td>\n",
       "      <td>0.094030</td>\n",
       "      <td>0.019290</td>\n",
       "      <td>26.775000</td>\n",
       "      <td>1.000000</td>\n",
       "      <td>0.458359</td>\n",
       "      <td>0.819521</td>\n",
       "      <td>-4.117501</td>\n",
       "      <td>0.334147</td>\n",
       "      <td>2.405554</td>\n",
       "      <td>0.368674</td>\n",
       "    </tr>\n",
       "    <tr>\n",
       "      <th>max</th>\n",
       "      <td>260.105000</td>\n",
       "      <td>592.030000</td>\n",
       "      <td>239.170000</td>\n",
       "      <td>0.033160</td>\n",
       "      <td>0.000260</td>\n",
       "      <td>0.021440</td>\n",
       "      <td>0.019580</td>\n",
       "      <td>0.064330</td>\n",
       "      <td>0.119080</td>\n",
       "      <td>1.302000</td>\n",
       "      <td>...</td>\n",
       "      <td>0.169420</td>\n",
       "      <td>0.314820</td>\n",
       "      <td>33.047000</td>\n",
       "      <td>1.000000</td>\n",
       "      <td>0.685151</td>\n",
       "      <td>0.825288</td>\n",
       "      <td>-2.434031</td>\n",
       "      <td>0.450493</td>\n",
       "      <td>3.671155</td>\n",
       "      <td>0.527367</td>\n",
       "    </tr>\n",
       "  </tbody>\n",
       "</table>\n",
       "<p>8 rows × 23 columns</p>\n",
       "</div>"
      ],
      "text/plain": [
       "       MDVP:Fo(Hz)  MDVP:Fhi(Hz)  MDVP:Flo(Hz)  MDVP:Jitter(%)  \\\n",
       "count  1665.000000   1665.000000   1665.000000     1665.000000   \n",
       "mean    146.083079    169.184953    131.829598        0.007429   \n",
       "std      38.827845     44.926220     44.058666        0.004115   \n",
       "min      88.333000    102.145000     65.476000        0.001680   \n",
       "25%     116.676000    137.871000    110.655000        0.002890   \n",
       "50%     119.992000    148.650000    111.555000        0.007840   \n",
       "75%     197.076000    209.512000    192.055000        0.010500   \n",
       "max     260.105000    592.030000    239.170000        0.033160   \n",
       "\n",
       "       MDVP:Jitter(Abs)     MDVP:RAP     MDVP:PPQ   Jitter:DDP  MDVP:Shimmer  \\\n",
       "count       1665.000000  1665.000000  1665.000000  1665.000000   1665.000000   \n",
       "mean           0.000060     0.003774     0.005074     0.011387      0.039552   \n",
       "std            0.000038     0.002144     0.002980     0.006460      0.021961   \n",
       "min            0.000007     0.000680     0.000920     0.002040      0.009540   \n",
       "25%            0.000010     0.001440     0.001480     0.004960      0.011520   \n",
       "50%            0.000070     0.004650     0.005540     0.013940      0.043740   \n",
       "75%            0.000090     0.005440     0.006980     0.016330      0.061340   \n",
       "max            0.000260     0.021440     0.019580     0.064330      0.119080   \n",
       "\n",
       "       MDVP:Shimmer(dB)  ...  Shimmer:DDA          NHR          HNR  \\\n",
       "count       1665.000000  ...  1665.000000  1665.000000  1665.000000   \n",
       "mean           0.374841  ...     0.061721     0.013589    23.426851   \n",
       "std            0.213903  ...     0.034904     0.016181     5.067272   \n",
       "min            0.085000  ...     0.013640     0.000650     8.441000   \n",
       "25%            0.111000  ...     0.019190     0.003390    19.649000   \n",
       "50%            0.482000  ...     0.065450     0.013530    20.651000   \n",
       "75%            0.584000  ...     0.094030     0.019290    26.775000   \n",
       "max            1.302000  ...     0.169420     0.314820    33.047000   \n",
       "\n",
       "            status         RPDE          DFA      spread1      spread2  \\\n",
       "count  1665.000000  1665.000000  1665.000000  1665.000000  1665.000000   \n",
       "mean      0.682883     0.431054     0.785707    -5.363439     0.252474   \n",
       "std       0.465493     0.052958     0.046824     1.547610     0.068880   \n",
       "min       0.000000     0.256570     0.574282    -7.964984     0.006274   \n",
       "25%       0.000000     0.414783     0.741899    -7.067931     0.177551   \n",
       "50%       1.000000     0.429895     0.815285    -4.813031     0.266482   \n",
       "75%       1.000000     0.458359     0.819521    -4.117501     0.334147   \n",
       "max       1.000000     0.685151     0.825288    -2.434031     0.450493   \n",
       "\n",
       "                D2          PPE  \n",
       "count  1665.000000  1665.000000  \n",
       "mean      2.170642     0.254506  \n",
       "std       0.375168     0.133744  \n",
       "min       1.423287     0.044539  \n",
       "25%       2.007923     0.096320  \n",
       "50%       2.332180     0.284654  \n",
       "75%       2.405554     0.368674  \n",
       "max       3.671155     0.527367  \n",
       "\n",
       "[8 rows x 23 columns]"
      ]
     },
     "execution_count": 24,
     "metadata": {},
     "output_type": "execute_result"
    }
   ],
   "source": [
    "finalDF.describe()"
   ]
  },
  {
   "cell_type": "markdown",
   "id": "b5b9e9d9",
   "metadata": {},
   "source": [
    "# <h1 style=\"font-family: Trebuchet MS; padding: 12px; font-size: 32px; color: #6C3483; text-align: center; line-height: 1.25;\">Correlation Matrix of Dataset</h1>\n",
    "<hr>"
   ]
  },
  {
   "cell_type": "code",
   "execution_count": 25,
   "id": "9cfb5772",
   "metadata": {},
   "outputs": [
    {
     "data": {
      "text/plain": [
       "<AxesSubplot:>"
      ]
     },
     "execution_count": 25,
     "metadata": {},
     "output_type": "execute_result"
    },
    {
     "data": {
      "image/png": "[encoded data removed]",
      "text/plain": [
       "<Figure size 1152x648 with 2 Axes>"
      ]
     },
     "metadata": {
      "needs_background": "light"
     },
     "output_type": "display_data"
    }
   ],
   "source": [
    "plt.figure(figsize=(16, 9))\n",
    "sns.heatmap(finalDF.corr(), annot=True, cmap='Purples', linewidths=0.1)"
   ]
  },
  {
   "cell_type": "markdown",
   "id": "046d32cd",
   "metadata": {},
   "source": [
    "# <h1 style=\"font-family: Trebuchet MS; padding: 12px; font-size: 32px; color: #6C3483; text-align: center; line-height: 1.25;\">Feature Engineering</h1>\n",
    "<hr>"
   ]
  },
  {
   "cell_type": "code",
   "execution_count": 26,
   "id": "2f485e59",
   "metadata": {},
   "outputs": [
    {
     "name": "stdout",
     "output_type": "stream",
     "text": [
      "\u001b[95mOriginal shape of data:  (1665, 24)\n",
      "Featues shape: (1665, 22)\n",
      "Target shape:  (1665,)\n"
     ]
    }
   ],
   "source": [
    "print(\"\\033[95mOriginal shape of data: \", finalDF.shape)\n",
    "x = finalDF.drop(['status','name'], axis=1)\n",
    "print(\"Featues shape:\", x.shape)\n",
    "y = finalDF.status\n",
    "print(\"Target shape: \", y.shape)"
   ]
  },
  {
   "cell_type": "code",
   "execution_count": 27,
   "id": "05460366",
   "metadata": {},
   "outputs": [],
   "source": [
    "# Min-Max Scaler\n",
    "scaler = MinMaxScaler((-1, 1))\n",
    "\n",
    "# fits the data normally \n",
    "X = scaler.fit_transform(x)"
   ]
  },
  {
   "cell_type": "markdown",
   "id": "d13b7662",
   "metadata": {},
   "source": [
    "# <h1 style=\"font-family: Trebuchet MS; padding: 12px; font-size: 32px; color: #6C3483; text-align: center; line-height: 1.25;\">Train-Test Split</h1>\n",
    "<hr>"
   ]
  },
  {
   "cell_type": "code",
   "execution_count": 28,
   "id": "81811a82",
   "metadata": {},
   "outputs": [],
   "source": [
    "x_train, x_test, y_train, y_test=train_test_split(x, y, test_size=0.2) "
   ]
  },
  {
   "cell_type": "markdown",
   "id": "ba2ad83d",
   "metadata": {},
   "source": [
    "# <h1 style=\"font-family: Trebuchet MS; padding: 12px; font-size: 32px; color: #6C3483; text-align: center; line-height: 1.25;\">Model Implementation</h1>\n",
    "<hr>"
   ]
  },
  {
   "cell_type": "markdown",
   "id": "f651d353",
   "metadata": {},
   "source": [
    "# <h1 style=\"font-family: Trebuchet MS; padding: 12px; font-size: 24px; color: #6C3483; text-align: center; line-height: 1.25;\">Logistic Regression</h1>\n",
    "<hr>"
   ]
  },
  {
   "cell_type": "code",
   "execution_count": 29,
   "id": "670127ba",
   "metadata": {},
   "outputs": [
    {
     "data": {
      "text/html": [
       "<style>#sk-container-id-1 {color: black;background-color: white;}#sk-container-id-1 pre{padding: 0;}#sk-container-id-1 div.sk-toggleable {background-color: white;}#sk-container-id-1 label.sk-toggleable__label {cursor: pointer;display: block;width: 100%;margin-bottom: 0;padding: 0.3em;box-sizing: border-box;text-align: center;}#sk-container-id-1 label.sk-toggleable__label-arrow:before {content: \"▸\";float: left;margin-right: 0.25em;color: #696969;}#sk-container-id-1 label.sk-toggleable__label-arrow:hover:before {color: black;}#sk-container-id-1 div.sk-estimator:hover label.sk-toggleable__label-arrow:before {color: black;}#sk-container-id-1 div.sk-toggleable__content {max-height: 0;max-width: 0;overflow: hidden;text-align: left;background-color: #f0f8ff;}#sk-container-id-1 div.sk-toggleable__content pre {margin: 0.2em;color: black;border-radius: 0.25em;background-color: #f0f8ff;}#sk-container-id-1 input.sk-toggleable__control:checked~div.sk-toggleable__content {max-height: 200px;max-width: 100%;overflow: auto;}#sk-container-id-1 input.sk-toggleable__control:checked~label.sk-toggleable__label-arrow:before {content: \"▾\";}#sk-container-id-1 div.sk-estimator input.sk-toggleable__control:checked~label.sk-toggleable__label {background-color: #d4ebff;}#sk-container-id-1 div.sk-label input.sk-toggleable__control:checked~label.sk-toggleable__label {background-color: #d4ebff;}#sk-container-id-1 input.sk-hidden--visually {border: 0;clip: rect(1px 1px 1px 1px);clip: rect(1px, 1px, 1px, 1px);height: 1px;margin: -1px;overflow: hidden;padding: 0;position: absolute;width: 1px;}#sk-container-id-1 div.sk-estimator {font-family: monospace;background-color: #f0f8ff;border: 1px dotted black;border-radius: 0.25em;box-sizing: border-box;margin-bottom: 0.5em;}#sk-container-id-1 div.sk-estimator:hover {background-color: #d4ebff;}#sk-container-id-1 div.sk-parallel-item::after {content: \"\";width: 100%;border-bottom: 1px solid gray;flex-grow: 1;}#sk-container-id-1 div.sk-label:hover label.sk-toggleable__label {background-color: #d4ebff;}#sk-container-id-1 div.sk-serial::before {content: \"\";position: absolute;border-left: 1px solid gray;box-sizing: border-box;top: 0;bottom: 0;left: 50%;z-index: 0;}#sk-container-id-1 div.sk-serial {display: flex;flex-direction: column;align-items: center;background-color: white;padding-right: 0.2em;padding-left: 0.2em;position: relative;}#sk-container-id-1 div.sk-item {position: relative;z-index: 1;}#sk-container-id-1 div.sk-parallel {display: flex;align-items: stretch;justify-content: center;background-color: white;position: relative;}#sk-container-id-1 div.sk-item::before, #sk-container-id-1 div.sk-parallel-item::before {content: \"\";position: absolute;border-left: 1px solid gray;box-sizing: border-box;top: 0;bottom: 0;left: 50%;z-index: -1;}#sk-container-id-1 div.sk-parallel-item {display: flex;flex-direction: column;z-index: 1;position: relative;background-color: white;}#sk-container-id-1 div.sk-parallel-item:first-child::after {align-self: flex-end;width: 50%;}#sk-container-id-1 div.sk-parallel-item:last-child::after {align-self: flex-start;width: 50%;}#sk-container-id-1 div.sk-parallel-item:only-child::after {width: 0;}#sk-container-id-1 div.sk-dashed-wrapped {border: 1px dashed gray;margin: 0 0.4em 0.5em 0.4em;box-sizing: border-box;padding-bottom: 0.4em;background-color: white;}#sk-container-id-1 div.sk-label label {font-family: monospace;font-weight: bold;display: inline-block;line-height: 1.2em;}#sk-container-id-1 div.sk-label-container {text-align: center;}#sk-container-id-1 div.sk-container {/* jupyter's `normalize.less` sets `[hidden] { display: none; }` but bootstrap.min.css set `[hidden] { display: none !important; }` so we also need the `!important` here to be able to override the default hidden behavior on the sphinx rendered scikit-learn.org. See: https://github.com/scikit-learn/scikit-learn/issues/21755 */display: inline-block !important;position: relative;}#sk-container-id-1 div.sk-text-repr-fallback {display: none;}</style><div id=\"sk-container-id-1\" class=\"sk-top-container\"><div class=\"sk-text-repr-fallback\"><pre>LogisticRegression()</pre><b>In a Jupyter environment, please rerun this cell to show the HTML representation or trust the notebook. <br />On GitHub, the HTML representation is unable to render, please try loading this page with nbviewer.org.</b></div><div class=\"sk-container\" hidden><div class=\"sk-item\"><div class=\"sk-estimator sk-toggleable\"><input class=\"sk-toggleable__control sk-hidden--visually\" id=\"sk-estimator-id-1\" type=\"checkbox\" checked><label for=\"sk-estimator-id-1\" class=\"sk-toggleable__label sk-toggleable__label-arrow\">LogisticRegression</label><div class=\"sk-toggleable__content\"><pre>LogisticRegression()</pre></div></div></div></div></div>"
      ],
      "text/plain": [
       "LogisticRegression()"
      ]
     },
     "execution_count": 29,
     "metadata": {},
     "output_type": "execute_result"
    }
   ],
   "source": [
    "clf = LogisticRegression()\n",
    "\n",
    "clf.fit(x_train, y_train)"
   ]
  },
  {
   "cell_type": "code",
   "execution_count": 30,
   "id": "f88e8a64",
   "metadata": {},
   "outputs": [],
   "source": [
    "pred_logistic_train = clf.predict(x_train)\n",
    "pred_logistic_test = clf.predict(x_test)"
   ]
  },
  {
   "cell_type": "code",
   "execution_count": 56,
   "id": "e5a6efb8",
   "metadata": {},
   "outputs": [
    {
     "name": "stdout",
     "output_type": "stream",
     "text": [
      "\u001b[95mAccuracy:  98 %\n"
     ]
    }
   ],
   "source": [
    "log_acc = accuracy_score(y_test, pred_logistic_test)\n",
    "print('\\033[95mAccuracy: ',int(log_acc*100),'%')"
   ]
  },
  {
   "cell_type": "code",
   "execution_count": 32,
   "id": "449e7670",
   "metadata": {},
   "outputs": [
    {
     "data": {
      "text/plain": [
       "Text(0.5, 1.05, 'Confusion Matrix for Logistic Regression')"
      ]
     },
     "execution_count": 32,
     "metadata": {},
     "output_type": "execute_result"
    },
    {
     "data": {
      "image/png": "[encoded data removed]",
      "text/plain": [
       "<Figure size 576x432 with 2 Axes>"
      ]
     },
     "metadata": {
      "needs_background": "light"
     },
     "output_type": "display_data"
    }
   ],
   "source": [
    "# Confusion matrix of Logistic Regression\n",
    "log_matrix = confusion_matrix(y_test, pred_logistic_test)\n",
    "plt.figure(figsize=(8,6))\n",
    "sns.heatmap(log_matrix, cmap='Purples', annot=True)\n",
    "plt.title(\"Confusion Matrix for Logistic Regression\",fontsize=15,y=1.05)"
   ]
  },
  {
   "cell_type": "markdown",
   "id": "879e5848",
   "metadata": {},
   "source": [
    "# <h1 style=\"font-family: Trebuchet MS; padding: 12px; font-size: 24px; color: #6C3483; text-align: center; line-height: 1.25;\">Support Vector Classifier</h1>\n",
    "<hr>"
   ]
  },
  {
   "cell_type": "code",
   "execution_count": 33,
   "id": "ac376cbb",
   "metadata": {},
   "outputs": [
    {
     "data": {
      "text/html": [
       "<style>#sk-container-id-2 {color: black;background-color: white;}#sk-container-id-2 pre{padding: 0;}#sk-container-id-2 div.sk-toggleable {background-color: white;}#sk-container-id-2 label.sk-toggleable__label {cursor: pointer;display: block;width: 100%;margin-bottom: 0;padding: 0.3em;box-sizing: border-box;text-align: center;}#sk-container-id-2 label.sk-toggleable__label-arrow:before {content: \"▸\";float: left;margin-right: 0.25em;color: #696969;}#sk-container-id-2 label.sk-toggleable__label-arrow:hover:before {color: black;}#sk-container-id-2 div.sk-estimator:hover label.sk-toggleable__label-arrow:before {color: black;}#sk-container-id-2 div.sk-toggleable__content {max-height: 0;max-width: 0;overflow: hidden;text-align: left;background-color: #f0f8ff;}#sk-container-id-2 div.sk-toggleable__content pre {margin: 0.2em;color: black;border-radius: 0.25em;background-color: #f0f8ff;}#sk-container-id-2 input.sk-toggleable__control:checked~div.sk-toggleable__content {max-height: 200px;max-width: 100%;overflow: auto;}#sk-container-id-2 input.sk-toggleable__control:checked~label.sk-toggleable__label-arrow:before {content: \"▾\";}#sk-container-id-2 div.sk-estimator input.sk-toggleable__control:checked~label.sk-toggleable__label {background-color: #d4ebff;}#sk-container-id-2 div.sk-label input.sk-toggleable__control:checked~label.sk-toggleable__label {background-color: #d4ebff;}#sk-container-id-2 input.sk-hidden--visually {border: 0;clip: rect(1px 1px 1px 1px);clip: rect(1px, 1px, 1px, 1px);height: 1px;margin: -1px;overflow: hidden;padding: 0;position: absolute;width: 1px;}#sk-container-id-2 div.sk-estimator {font-family: monospace;background-color: #f0f8ff;border: 1px dotted black;border-radius: 0.25em;box-sizing: border-box;margin-bottom: 0.5em;}#sk-container-id-2 div.sk-estimator:hover {background-color: #d4ebff;}#sk-container-id-2 div.sk-parallel-item::after {content: \"\";width: 100%;border-bottom: 1px solid gray;flex-grow: 1;}#sk-container-id-2 div.sk-label:hover label.sk-toggleable__label {background-color: #d4ebff;}#sk-container-id-2 div.sk-serial::before {content: \"\";position: absolute;border-left: 1px solid gray;box-sizing: border-box;top: 0;bottom: 0;left: 50%;z-index: 0;}#sk-container-id-2 div.sk-serial {display: flex;flex-direction: column;align-items: center;background-color: white;padding-right: 0.2em;padding-left: 0.2em;position: relative;}#sk-container-id-2 div.sk-item {position: relative;z-index: 1;}#sk-container-id-2 div.sk-parallel {display: flex;align-items: stretch;justify-content: center;background-color: white;position: relative;}#sk-container-id-2 div.sk-item::before, #sk-container-id-2 div.sk-parallel-item::before {content: \"\";position: absolute;border-left: 1px solid gray;box-sizing: border-box;top: 0;bottom: 0;left: 50%;z-index: -1;}#sk-container-id-2 div.sk-parallel-item {display: flex;flex-direction: column;z-index: 1;position: relative;background-color: white;}#sk-container-id-2 div.sk-parallel-item:first-child::after {align-self: flex-end;width: 50%;}#sk-container-id-2 div.sk-parallel-item:last-child::after {align-self: flex-start;width: 50%;}#sk-container-id-2 div.sk-parallel-item:only-child::after {width: 0;}#sk-container-id-2 div.sk-dashed-wrapped {border: 1px dashed gray;margin: 0 0.4em 0.5em 0.4em;box-sizing: border-box;padding-bottom: 0.4em;background-color: white;}#sk-container-id-2 div.sk-label label {font-family: monospace;font-weight: bold;display: inline-block;line-height: 1.2em;}#sk-container-id-2 div.sk-label-container {text-align: center;}#sk-container-id-2 div.sk-container {/* jupyter's `normalize.less` sets `[hidden] { display: none; }` but bootstrap.min.css set `[hidden] { display: none !important; }` so we also need the `!important` here to be able to override the default hidden behavior on the sphinx rendered scikit-learn.org. See: https://github.com/scikit-learn/scikit-learn/issues/21755 */display: inline-block !important;position: relative;}#sk-container-id-2 div.sk-text-repr-fallback {display: none;}</style><div id=\"sk-container-id-2\" class=\"sk-top-container\"><div class=\"sk-text-repr-fallback\"><pre>SVC(max_iter=1000)</pre><b>In a Jupyter environment, please rerun this cell to show the HTML representation or trust the notebook. <br />On GitHub, the HTML representation is unable to render, please try loading this page with nbviewer.org.</b></div><div class=\"sk-container\" hidden><div class=\"sk-item\"><div class=\"sk-estimator sk-toggleable\"><input class=\"sk-toggleable__control sk-hidden--visually\" id=\"sk-estimator-id-2\" type=\"checkbox\" checked><label for=\"sk-estimator-id-2\" class=\"sk-toggleable__label sk-toggleable__label-arrow\">SVC</label><div class=\"sk-toggleable__content\"><pre>SVC(max_iter=1000)</pre></div></div></div></div></div>"
      ],
      "text/plain": [
       "SVC(max_iter=1000)"
      ]
     },
     "execution_count": 33,
     "metadata": {},
     "output_type": "execute_result"
    }
   ],
   "source": [
    "svec = SVC(kernel='rbf', max_iter=1000)\n",
    "\n",
    "svec.fit(x_train, y_train)"
   ]
  },
  {
   "cell_type": "code",
   "execution_count": 34,
   "id": "609208d5",
   "metadata": {},
   "outputs": [],
   "source": [
    "svec_train = svec.predict(x_train)\n",
    "svec_test = svec.predict(x_test)"
   ]
  },
  {
   "cell_type": "code",
   "execution_count": 55,
   "id": "bc38a81a",
   "metadata": {},
   "outputs": [
    {
     "name": "stdout",
     "output_type": "stream",
     "text": [
      "\u001b[95mAccuracy:  97 %\n"
     ]
    }
   ],
   "source": [
    "svec_acc = accuracy_score(y_test, svec_test)\n",
    "print('\\033[95mAccuracy: ',int(svec_acc*100),'%')"
   ]
  },
  {
   "cell_type": "code",
   "execution_count": 36,
   "id": "a515429b",
   "metadata": {},
   "outputs": [
    {
     "data": {
      "text/plain": [
       "Text(0.5, 1.05, 'Confusion Matrix for SVC')"
      ]
     },
     "execution_count": 36,
     "metadata": {},
     "output_type": "execute_result"
    },
    {
     "data": {
      "image/png": "[encoded data removed]",
      "text/plain": [
       "<Figure size 576x432 with 2 Axes>"
      ]
     },
     "metadata": {
      "needs_background": "light"
     },
     "output_type": "display_data"
    }
   ],
   "source": [
    "# Confusion matrix of SVC\n",
    "svec_matrix = confusion_matrix(y_test, svec_test)\n",
    "plt.figure(figsize=(8,6))\n",
    "sns.heatmap(svec_matrix, cmap='Purples', annot=True)\n",
    "plt.title(\"Confusion Matrix for SVC\",fontsize=15,y=1.05)"
   ]
  },
  {
   "cell_type": "markdown",
   "id": "a958bc8d",
   "metadata": {},
   "source": [
    "# <h1 style=\"font-family: Trebuchet MS; padding: 12px; font-size: 24px; color: #6C3483; text-align: center; line-height: 1.25;\">Random Forest</h1>\n",
    "<hr>"
   ]
  },
  {
   "cell_type": "code",
   "execution_count": 37,
   "id": "99ef517c",
   "metadata": {},
   "outputs": [
    {
     "data": {
      "text/html": [
       "<style>#sk-container-id-3 {color: black;background-color: white;}#sk-container-id-3 pre{padding: 0;}#sk-container-id-3 div.sk-toggleable {background-color: white;}#sk-container-id-3 label.sk-toggleable__label {cursor: pointer;display: block;width: 100%;margin-bottom: 0;padding: 0.3em;box-sizing: border-box;text-align: center;}#sk-container-id-3 label.sk-toggleable__label-arrow:before {content: \"▸\";float: left;margin-right: 0.25em;color: #696969;}#sk-container-id-3 label.sk-toggleable__label-arrow:hover:before {color: black;}#sk-container-id-3 div.sk-estimator:hover label.sk-toggleable__label-arrow:before {color: black;}#sk-container-id-3 div.sk-toggleable__content {max-height: 0;max-width: 0;overflow: hidden;text-align: left;background-color: #f0f8ff;}#sk-container-id-3 div.sk-toggleable__content pre {margin: 0.2em;color: black;border-radius: 0.25em;background-color: #f0f8ff;}#sk-container-id-3 input.sk-toggleable__control:checked~div.sk-toggleable__content {max-height: 200px;max-width: 100%;overflow: auto;}#sk-container-id-3 input.sk-toggleable__control:checked~label.sk-toggleable__label-arrow:before {content: \"▾\";}#sk-container-id-3 div.sk-estimator input.sk-toggleable__control:checked~label.sk-toggleable__label {background-color: #d4ebff;}#sk-container-id-3 div.sk-label input.sk-toggleable__control:checked~label.sk-toggleable__label {background-color: #d4ebff;}#sk-container-id-3 input.sk-hidden--visually {border: 0;clip: rect(1px 1px 1px 1px);clip: rect(1px, 1px, 1px, 1px);height: 1px;margin: -1px;overflow: hidden;padding: 0;position: absolute;width: 1px;}#sk-container-id-3 div.sk-estimator {font-family: monospace;background-color: #f0f8ff;border: 1px dotted black;border-radius: 0.25em;box-sizing: border-box;margin-bottom: 0.5em;}#sk-container-id-3 div.sk-estimator:hover {background-color: #d4ebff;}#sk-container-id-3 div.sk-parallel-item::after {content: \"\";width: 100%;border-bottom: 1px solid gray;flex-grow: 1;}#sk-container-id-3 div.sk-label:hover label.sk-toggleable__label {background-color: #d4ebff;}#sk-container-id-3 div.sk-serial::before {content: \"\";position: absolute;border-left: 1px solid gray;box-sizing: border-box;top: 0;bottom: 0;left: 50%;z-index: 0;}#sk-container-id-3 div.sk-serial {display: flex;flex-direction: column;align-items: center;background-color: white;padding-right: 0.2em;padding-left: 0.2em;position: relative;}#sk-container-id-3 div.sk-item {position: relative;z-index: 1;}#sk-container-id-3 div.sk-parallel {display: flex;align-items: stretch;justify-content: center;background-color: white;position: relative;}#sk-container-id-3 div.sk-item::before, #sk-container-id-3 div.sk-parallel-item::before {content: \"\";position: absolute;border-left: 1px solid gray;box-sizing: border-box;top: 0;bottom: 0;left: 50%;z-index: -1;}#sk-container-id-3 div.sk-parallel-item {display: flex;flex-direction: column;z-index: 1;position: relative;background-color: white;}#sk-container-id-3 div.sk-parallel-item:first-child::after {align-self: flex-end;width: 50%;}#sk-container-id-3 div.sk-parallel-item:last-child::after {align-self: flex-start;width: 50%;}#sk-container-id-3 div.sk-parallel-item:only-child::after {width: 0;}#sk-container-id-3 div.sk-dashed-wrapped {border: 1px dashed gray;margin: 0 0.4em 0.5em 0.4em;box-sizing: border-box;padding-bottom: 0.4em;background-color: white;}#sk-container-id-3 div.sk-label label {font-family: monospace;font-weight: bold;display: inline-block;line-height: 1.2em;}#sk-container-id-3 div.sk-label-container {text-align: center;}#sk-container-id-3 div.sk-container {/* jupyter's `normalize.less` sets `[hidden] { display: none; }` but bootstrap.min.css set `[hidden] { display: none !important; }` so we also need the `!important` here to be able to override the default hidden behavior on the sphinx rendered scikit-learn.org. See: https://github.com/scikit-learn/scikit-learn/issues/21755 */display: inline-block !important;position: relative;}#sk-container-id-3 div.sk-text-repr-fallback {display: none;}</style><div id=\"sk-container-id-3\" class=\"sk-top-container\"><div class=\"sk-text-repr-fallback\"><pre>RandomForestClassifier()</pre><b>In a Jupyter environment, please rerun this cell to show the HTML representation or trust the notebook. <br />On GitHub, the HTML representation is unable to render, please try loading this page with nbviewer.org.</b></div><div class=\"sk-container\" hidden><div class=\"sk-item\"><div class=\"sk-estimator sk-toggleable\"><input class=\"sk-toggleable__control sk-hidden--visually\" id=\"sk-estimator-id-3\" type=\"checkbox\" checked><label for=\"sk-estimator-id-3\" class=\"sk-toggleable__label sk-toggleable__label-arrow\">RandomForestClassifier</label><div class=\"sk-toggleable__content\"><pre>RandomForestClassifier()</pre></div></div></div></div></div>"
      ],
      "text/plain": [
       "RandomForestClassifier()"
      ]
     },
     "execution_count": 37,
     "metadata": {},
     "output_type": "execute_result"
    }
   ],
   "source": [
    "rf = RandomForestClassifier()\n",
    "rf.fit(x_train, y_train)"
   ]
  },
  {
   "cell_type": "code",
   "execution_count": 38,
   "id": "0a0d2766",
   "metadata": {},
   "outputs": [],
   "source": [
    "train_pred_rf = rf.predict(x_train)\n",
    "pred_rf = rf.predict(x_test)"
   ]
  },
  {
   "cell_type": "code",
   "execution_count": 54,
   "id": "2dd8e2fc",
   "metadata": {},
   "outputs": [
    {
     "name": "stdout",
     "output_type": "stream",
     "text": [
      "\u001b[95mAccuracy:  99 %\n"
     ]
    }
   ],
   "source": [
    "rf_acc = accuracy_score(y_test, pred_rf)\n",
    "print('\\033[95mAccuracy: ',int(rf_acc*100),'%')"
   ]
  },
  {
   "cell_type": "code",
   "execution_count": 40,
   "id": "47b41fa7",
   "metadata": {},
   "outputs": [
    {
     "data": {
      "text/plain": [
       "Text(0.5, 1.05, 'Confusion Matrix for Random Forest')"
      ]
     },
     "execution_count": 40,
     "metadata": {},
     "output_type": "execute_result"
    },
    {
     "data": {
      "image/png": "[encoded data removed]",
      "text/plain": [
       "<Figure size 576x432 with 2 Axes>"
      ]
     },
     "metadata": {
      "needs_background": "light"
     },
     "output_type": "display_data"
    }
   ],
   "source": [
    "# Confusion matrix of Random Forest\n",
    "rf_matrix = confusion_matrix(y_test, pred_rf)\n",
    "plt.figure(figsize=(8,6))\n",
    "sns.heatmap(rf_matrix, cmap='Purples', annot=True)\n",
    "plt.title(\"Confusion Matrix for Random Forest\",fontsize=15,y=1.05)"
   ]
  },
  {
   "cell_type": "markdown",
   "id": "b4698414",
   "metadata": {},
   "source": [
    "# <h1 style=\"font-family: Trebuchet MS; padding: 12px; font-size: 24px; color: #6C3483; text-align: center; line-height: 1.25;\">Decision Tree</h1>\n",
    "<hr>"
   ]
  },
  {
   "cell_type": "code",
   "execution_count": 41,
   "id": "e3e9030b",
   "metadata": {},
   "outputs": [
    {
     "data": {
      "text/html": [
       "<style>#sk-container-id-4 {color: black;background-color: white;}#sk-container-id-4 pre{padding: 0;}#sk-container-id-4 div.sk-toggleable {background-color: white;}#sk-container-id-4 label.sk-toggleable__label {cursor: pointer;display: block;width: 100%;margin-bottom: 0;padding: 0.3em;box-sizing: border-box;text-align: center;}#sk-container-id-4 label.sk-toggleable__label-arrow:before {content: \"▸\";float: left;margin-right: 0.25em;color: #696969;}#sk-container-id-4 label.sk-toggleable__label-arrow:hover:before {color: black;}#sk-container-id-4 div.sk-estimator:hover label.sk-toggleable__label-arrow:before {color: black;}#sk-container-id-4 div.sk-toggleable__content {max-height: 0;max-width: 0;overflow: hidden;text-align: left;background-color: #f0f8ff;}#sk-container-id-4 div.sk-toggleable__content pre {margin: 0.2em;color: black;border-radius: 0.25em;background-color: #f0f8ff;}#sk-container-id-4 input.sk-toggleable__control:checked~div.sk-toggleable__content {max-height: 200px;max-width: 100%;overflow: auto;}#sk-container-id-4 input.sk-toggleable__control:checked~label.sk-toggleable__label-arrow:before {content: \"▾\";}#sk-container-id-4 div.sk-estimator input.sk-toggleable__control:checked~label.sk-toggleable__label {background-color: #d4ebff;}#sk-container-id-4 div.sk-label input.sk-toggleable__control:checked~label.sk-toggleable__label {background-color: #d4ebff;}#sk-container-id-4 input.sk-hidden--visually {border: 0;clip: rect(1px 1px 1px 1px);clip: rect(1px, 1px, 1px, 1px);height: 1px;margin: -1px;overflow: hidden;padding: 0;position: absolute;width: 1px;}#sk-container-id-4 div.sk-estimator {font-family: monospace;background-color: #f0f8ff;border: 1px dotted black;border-radius: 0.25em;box-sizing: border-box;margin-bottom: 0.5em;}#sk-container-id-4 div.sk-estimator:hover {background-color: #d4ebff;}#sk-container-id-4 div.sk-parallel-item::after {content: \"\";width: 100%;border-bottom: 1px solid gray;flex-grow: 1;}#sk-container-id-4 div.sk-label:hover label.sk-toggleable__label {background-color: #d4ebff;}#sk-container-id-4 div.sk-serial::before {content: \"\";position: absolute;border-left: 1px solid gray;box-sizing: border-box;top: 0;bottom: 0;left: 50%;z-index: 0;}#sk-container-id-4 div.sk-serial {display: flex;flex-direction: column;align-items: center;background-color: white;padding-right: 0.2em;padding-left: 0.2em;position: relative;}#sk-container-id-4 div.sk-item {position: relative;z-index: 1;}#sk-container-id-4 div.sk-parallel {display: flex;align-items: stretch;justify-content: center;background-color: white;position: relative;}#sk-container-id-4 div.sk-item::before, #sk-container-id-4 div.sk-parallel-item::before {content: \"\";position: absolute;border-left: 1px solid gray;box-sizing: border-box;top: 0;bottom: 0;left: 50%;z-index: -1;}#sk-container-id-4 div.sk-parallel-item {display: flex;flex-direction: column;z-index: 1;position: relative;background-color: white;}#sk-container-id-4 div.sk-parallel-item:first-child::after {align-self: flex-end;width: 50%;}#sk-container-id-4 div.sk-parallel-item:last-child::after {align-self: flex-start;width: 50%;}#sk-container-id-4 div.sk-parallel-item:only-child::after {width: 0;}#sk-container-id-4 div.sk-dashed-wrapped {border: 1px dashed gray;margin: 0 0.4em 0.5em 0.4em;box-sizing: border-box;padding-bottom: 0.4em;background-color: white;}#sk-container-id-4 div.sk-label label {font-family: monospace;font-weight: bold;display: inline-block;line-height: 1.2em;}#sk-container-id-4 div.sk-label-container {text-align: center;}#sk-container-id-4 div.sk-container {/* jupyter's `normalize.less` sets `[hidden] { display: none; }` but bootstrap.min.css set `[hidden] { display: none !important; }` so we also need the `!important` here to be able to override the default hidden behavior on the sphinx rendered scikit-learn.org. See: https://github.com/scikit-learn/scikit-learn/issues/21755 */display: inline-block !important;position: relative;}#sk-container-id-4 div.sk-text-repr-fallback {display: none;}</style><div id=\"sk-container-id-4\" class=\"sk-top-container\"><div class=\"sk-text-repr-fallback\"><pre>DecisionTreeClassifier()</pre><b>In a Jupyter environment, please rerun this cell to show the HTML representation or trust the notebook. <br />On GitHub, the HTML representation is unable to render, please try loading this page with nbviewer.org.</b></div><div class=\"sk-container\" hidden><div class=\"sk-item\"><div class=\"sk-estimator sk-toggleable\"><input class=\"sk-toggleable__control sk-hidden--visually\" id=\"sk-estimator-id-4\" type=\"checkbox\" checked><label for=\"sk-estimator-id-4\" class=\"sk-toggleable__label sk-toggleable__label-arrow\">DecisionTreeClassifier</label><div class=\"sk-toggleable__content\"><pre>DecisionTreeClassifier()</pre></div></div></div></div></div>"
      ],
      "text/plain": [
       "DecisionTreeClassifier()"
      ]
     },
     "execution_count": 41,
     "metadata": {},
     "output_type": "execute_result"
    }
   ],
   "source": [
    "dec = DecisionTreeClassifier()\n",
    "dec.fit(x_train, y_train)"
   ]
  },
  {
   "cell_type": "code",
   "execution_count": 42,
   "id": "17581d43",
   "metadata": {},
   "outputs": [],
   "source": [
    "train_pred_dec = dec.predict(x_train)\n",
    "pred_dec = dec.predict(x_test)"
   ]
  },
  {
   "cell_type": "code",
   "execution_count": 57,
   "id": "243cd0d8",
   "metadata": {},
   "outputs": [
    {
     "name": "stdout",
     "output_type": "stream",
     "text": [
      "\u001b[95mAccuracy:  99 %\n"
     ]
    }
   ],
   "source": [
    "dec_acc = accuracy_score(y_test, pred_dec)\n",
    "print('\\033[95mAccuracy: ',int(dec_acc*100),'%')"
   ]
  },
  {
   "cell_type": "code",
   "execution_count": 44,
   "id": "f2dd1fd8",
   "metadata": {},
   "outputs": [
    {
     "data": {
      "text/plain": [
       "Text(0.5, 1.05, 'Confusion Matrix for Decision Tree')"
      ]
     },
     "execution_count": 44,
     "metadata": {},
     "output_type": "execute_result"
    },
    {
     "data": {
      "image/png": "[encoded data removed]",
      "text/plain": [
       "<Figure size 576x432 with 2 Axes>"
      ]
     },
     "metadata": {
      "needs_background": "light"
     },
     "output_type": "display_data"
    }
   ],
   "source": [
    "# Confusion matrix of Decision Tree\n",
    "dec_matrix = confusion_matrix(y_test, pred_dec)\n",
    "plt.figure(figsize=(8,6))\n",
    "sns.heatmap(dec_matrix, cmap='Purples', annot=True)\n",
    "plt.title(\"Confusion Matrix for Decision Tree\",fontsize=15,y=1.05)"
   ]
  },
  {
   "cell_type": "markdown",
   "id": "ab4acf2f",
   "metadata": {},
   "source": [
    "# <h1 style=\"font-family: Trebuchet MS; padding: 12px; font-size: 24px; color: #6C3483; text-align: center; line-height: 1.25;\">XGB Classifier</h1>\n",
    "<hr>"
   ]
  },
  {
   "cell_type": "code",
   "execution_count": 45,
   "id": "7b14ec6f",
   "metadata": {},
   "outputs": [
    {
     "data": {
      "text/html": [
       "<style>#sk-container-id-5 {color: black;background-color: white;}#sk-container-id-5 pre{padding: 0;}#sk-container-id-5 div.sk-toggleable {background-color: white;}#sk-container-id-5 label.sk-toggleable__label {cursor: pointer;display: block;width: 100%;margin-bottom: 0;padding: 0.3em;box-sizing: border-box;text-align: center;}#sk-container-id-5 label.sk-toggleable__label-arrow:before {content: \"▸\";float: left;margin-right: 0.25em;color: #696969;}#sk-container-id-5 label.sk-toggleable__label-arrow:hover:before {color: black;}#sk-container-id-5 div.sk-estimator:hover label.sk-toggleable__label-arrow:before {color: black;}#sk-container-id-5 div.sk-toggleable__content {max-height: 0;max-width: 0;overflow: hidden;text-align: left;background-color: #f0f8ff;}#sk-container-id-5 div.sk-toggleable__content pre {margin: 0.2em;color: black;border-radius: 0.25em;background-color: #f0f8ff;}#sk-container-id-5 input.sk-toggleable__control:checked~div.sk-toggleable__content {max-height: 200px;max-width: 100%;overflow: auto;}#sk-container-id-5 input.sk-toggleable__control:checked~label.sk-toggleable__label-arrow:before {content: \"▾\";}#sk-container-id-5 div.sk-estimator input.sk-toggleable__control:checked~label.sk-toggleable__label {background-color: #d4ebff;}#sk-container-id-5 div.sk-label input.sk-toggleable__control:checked~label.sk-toggleable__label {background-color: #d4ebff;}#sk-container-id-5 input.sk-hidden--visually {border: 0;clip: rect(1px 1px 1px 1px);clip: rect(1px, 1px, 1px, 1px);height: 1px;margin: -1px;overflow: hidden;padding: 0;position: absolute;width: 1px;}#sk-container-id-5 div.sk-estimator {font-family: monospace;background-color: #f0f8ff;border: 1px dotted black;border-radius: 0.25em;box-sizing: border-box;margin-bottom: 0.5em;}#sk-container-id-5 div.sk-estimator:hover {background-color: #d4ebff;}#sk-container-id-5 div.sk-parallel-item::after {content: \"\";width: 100%;border-bottom: 1px solid gray;flex-grow: 1;}#sk-container-id-5 div.sk-label:hover label.sk-toggleable__label {background-color: #d4ebff;}#sk-container-id-5 div.sk-serial::before {content: \"\";position: absolute;border-left: 1px solid gray;box-sizing: border-box;top: 0;bottom: 0;left: 50%;z-index: 0;}#sk-container-id-5 div.sk-serial {display: flex;flex-direction: column;align-items: center;background-color: white;padding-right: 0.2em;padding-left: 0.2em;position: relative;}#sk-container-id-5 div.sk-item {position: relative;z-index: 1;}#sk-container-id-5 div.sk-parallel {display: flex;align-items: stretch;justify-content: center;background-color: white;position: relative;}#sk-container-id-5 div.sk-item::before, #sk-container-id-5 div.sk-parallel-item::before {content: \"\";position: absolute;border-left: 1px solid gray;box-sizing: border-box;top: 0;bottom: 0;left: 50%;z-index: -1;}#sk-container-id-5 div.sk-parallel-item {display: flex;flex-direction: column;z-index: 1;position: relative;background-color: white;}#sk-container-id-5 div.sk-parallel-item:first-child::after {align-self: flex-end;width: 50%;}#sk-container-id-5 div.sk-parallel-item:last-child::after {align-self: flex-start;width: 50%;}#sk-container-id-5 div.sk-parallel-item:only-child::after {width: 0;}#sk-container-id-5 div.sk-dashed-wrapped {border: 1px dashed gray;margin: 0 0.4em 0.5em 0.4em;box-sizing: border-box;padding-bottom: 0.4em;background-color: white;}#sk-container-id-5 div.sk-label label {font-family: monospace;font-weight: bold;display: inline-block;line-height: 1.2em;}#sk-container-id-5 div.sk-label-container {text-align: center;}#sk-container-id-5 div.sk-container {/* jupyter's `normalize.less` sets `[hidden] { display: none; }` but bootstrap.min.css set `[hidden] { display: none !important; }` so we also need the `!important` here to be able to override the default hidden behavior on the sphinx rendered scikit-learn.org. See: https://github.com/scikit-learn/scikit-learn/issues/21755 */display: inline-block !important;position: relative;}#sk-container-id-5 div.sk-text-repr-fallback {display: none;}</style><div id=\"sk-container-id-5\" class=\"sk-top-container\"><div class=\"sk-text-repr-fallback\"><pre>XGBClassifier(base_score=0.5, booster=&#x27;gbtree&#x27;, callbacks=None,\n",
       "              colsample_bylevel=1, colsample_bynode=1, colsample_bytree=1,\n",
       "              early_stopping_rounds=None, enable_categorical=False,\n",
       "              eval_metric=None, feature_types=None, gamma=0, gpu_id=-1,\n",
       "              grow_policy=&#x27;depthwise&#x27;, importance_type=None,\n",
       "              interaction_constraints=&#x27;&#x27;, learning_rate=0.300000012,\n",
       "              max_bin=256, max_cat_threshold=64, max_cat_to_onehot=4,\n",
       "              max_delta_step=0, max_depth=6, max_leaves=0, min_child_weight=1,\n",
       "              missing=nan, monotone_constraints=&#x27;()&#x27;, n_estimators=100,\n",
       "              n_jobs=0, num_parallel_tree=1, predictor=&#x27;auto&#x27;, random_state=0, ...)</pre><b>In a Jupyter environment, please rerun this cell to show the HTML representation or trust the notebook. <br />On GitHub, the HTML representation is unable to render, please try loading this page with nbviewer.org.</b></div><div class=\"sk-container\" hidden><div class=\"sk-item\"><div class=\"sk-estimator sk-toggleable\"><input class=\"sk-toggleable__control sk-hidden--visually\" id=\"sk-estimator-id-5\" type=\"checkbox\" checked><label for=\"sk-estimator-id-5\" class=\"sk-toggleable__label sk-toggleable__label-arrow\">XGBClassifier</label><div class=\"sk-toggleable__content\"><pre>XGBClassifier(base_score=0.5, booster=&#x27;gbtree&#x27;, callbacks=None,\n",
       "              colsample_bylevel=1, colsample_bynode=1, colsample_bytree=1,\n",
       "              early_stopping_rounds=None, enable_categorical=False,\n",
       "              eval_metric=None, feature_types=None, gamma=0, gpu_id=-1,\n",
       "              grow_policy=&#x27;depthwise&#x27;, importance_type=None,\n",
       "              interaction_constraints=&#x27;&#x27;, learning_rate=0.300000012,\n",
       "              max_bin=256, max_cat_threshold=64, max_cat_to_onehot=4,\n",
       "              max_delta_step=0, max_depth=6, max_leaves=0, min_child_weight=1,\n",
       "              missing=nan, monotone_constraints=&#x27;()&#x27;, n_estimators=100,\n",
       "              n_jobs=0, num_parallel_tree=1, predictor=&#x27;auto&#x27;, random_state=0, ...)</pre></div></div></div></div></div>"
      ],
      "text/plain": [
       "XGBClassifier(base_score=0.5, booster='gbtree', callbacks=None,\n",
       "              colsample_bylevel=1, colsample_bynode=1, colsample_bytree=1,\n",
       "              early_stopping_rounds=None, enable_categorical=False,\n",
       "              eval_metric=None, feature_types=None, gamma=0, gpu_id=-1,\n",
       "              grow_policy='depthwise', importance_type=None,\n",
       "              interaction_constraints='', learning_rate=0.300000012,\n",
       "              max_bin=256, max_cat_threshold=64, max_cat_to_onehot=4,\n",
       "              max_delta_step=0, max_depth=6, max_leaves=0, min_child_weight=1,\n",
       "              missing=nan, monotone_constraints='()', n_estimators=100,\n",
       "              n_jobs=0, num_parallel_tree=1, predictor='auto', random_state=0, ...)"
      ]
     },
     "execution_count": 45,
     "metadata": {},
     "output_type": "execute_result"
    }
   ],
   "source": [
    "xg = xgb.XGBClassifier()\n",
    "\n",
    "xg.fit(x_train, y_train)"
   ]
  },
  {
   "cell_type": "code",
   "execution_count": 46,
   "id": "b42c8e09",
   "metadata": {},
   "outputs": [],
   "source": [
    "xg_pred_train = xg.predict(x_train)\n",
    "xg_pred = xg.predict(x_test)"
   ]
  },
  {
   "cell_type": "code",
   "execution_count": 58,
   "id": "10f4562f",
   "metadata": {},
   "outputs": [
    {
     "name": "stdout",
     "output_type": "stream",
     "text": [
      "\u001b[95mAccuracy:  99 %\n"
     ]
    }
   ],
   "source": [
    "xgb_acc = accuracy_score(y_test, xg_pred)\n",
    "print('\\033[95mAccuracy: ',int(xgb_acc*100),'%')"
   ]
  },
  {
   "cell_type": "code",
   "execution_count": 59,
   "id": "f22a48a7",
   "metadata": {},
   "outputs": [
    {
     "data": {
      "text/plain": [
       "Text(0.5, 1.05, 'Confusion Matrix for XGB Classifier')"
      ]
     },
     "execution_count": 59,
     "metadata": {},
     "output_type": "execute_result"
    },
    {
     "data": {
      "image/png": "[encoded data removed]",
      "text/plain": [
       "<Figure size 576x432 with 2 Axes>"
      ]
     },
     "metadata": {
      "needs_background": "light"
     },
     "output_type": "display_data"
    }
   ],
   "source": [
    "# Confusion matrix of XGB Classifier\n",
    "xgb_matrix = confusion_matrix(y_test, xg_pred)\n",
    "plt.figure(figsize=(8,6))\n",
    "sns.heatmap(xgb_matrix, cmap='Purples', annot=True)\n",
    "plt.title(\"Confusion Matrix for XGB Classifier\",fontsize=15,y=1.05)"
   ]
  },
  {
   "cell_type": "markdown",
   "id": "e197273a",
   "metadata": {},
   "source": [
    "# <h1 style=\"font-family: Trebuchet MS; padding: 12px; font-size: 32px; color: #6C3483; text-align: center; line-height: 1.25;\">Comparison among Model's Accuracy</h1>\n",
    "<hr>"
   ]
  },
  {
   "cell_type": "code",
   "execution_count": 60,
   "id": "3659dd8c",
   "metadata": {},
   "outputs": [
    {
     "data": {
      "text/html": [
       "<style type=\"text/css\">\n",
       "#T_a683e_row0_col1 {\n",
       "  background-color: #3f007d;\n",
       "  color: #f1f1f1;\n",
       "}\n",
       "#T_a683e_row1_col1 {\n",
       "  background-color: #53268f;\n",
       "  color: #f1f1f1;\n",
       "}\n",
       "#T_a683e_row2_col1 {\n",
       "  background-color: #6a51a3;\n",
       "  color: #f1f1f1;\n",
       "}\n",
       "#T_a683e_row3_col1 {\n",
       "  background-color: #9e9bc8;\n",
       "  color: #f1f1f1;\n",
       "}\n",
       "#T_a683e_row4_col1 {\n",
       "  background-color: #fcfbfd;\n",
       "  color: #000000;\n",
       "}\n",
       "</style>\n",
       "<table id=\"T_a683e\">\n",
       "  <thead>\n",
       "    <tr>\n",
       "      <th id=\"T_a683e_level0_col0\" class=\"col_heading level0 col0\" >Model</th>\n",
       "      <th id=\"T_a683e_level0_col1\" class=\"col_heading level0 col1\" >Accuracy</th>\n",
       "    </tr>\n",
       "  </thead>\n",
       "  <tbody>\n",
       "    <tr>\n",
       "      <td id=\"T_a683e_row0_col0\" class=\"data row0 col0\" >Random Forest</td>\n",
       "      <td id=\"T_a683e_row0_col1\" class=\"data row0 col1\" >99.699700</td>\n",
       "    </tr>\n",
       "    <tr>\n",
       "      <td id=\"T_a683e_row1_col0\" class=\"data row1 col0\" >XGB</td>\n",
       "      <td id=\"T_a683e_row1_col1\" class=\"data row1 col1\" >99.399399</td>\n",
       "    </tr>\n",
       "    <tr>\n",
       "      <td id=\"T_a683e_row2_col0\" class=\"data row2 col0\" >Decision Tree</td>\n",
       "      <td id=\"T_a683e_row2_col1\" class=\"data row2 col1\" >99.099099</td>\n",
       "    </tr>\n",
       "    <tr>\n",
       "      <td id=\"T_a683e_row3_col0\" class=\"data row3 col0\" >Logistic Regression</td>\n",
       "      <td id=\"T_a683e_row3_col1\" class=\"data row3 col1\" >98.498498</td>\n",
       "    </tr>\n",
       "    <tr>\n",
       "      <td id=\"T_a683e_row4_col0\" class=\"data row4 col0\" >SVC</td>\n",
       "      <td id=\"T_a683e_row4_col1\" class=\"data row4 col1\" >97.297297</td>\n",
       "    </tr>\n",
       "  </tbody>\n",
       "</table>\n"
      ],
      "text/plain": [
       "<pandas.io.formats.style.Styler at 0x2831e64ccd0>"
      ]
     },
     "execution_count": 60,
     "metadata": {},
     "output_type": "execute_result"
    }
   ],
   "source": [
    "compareModel = pd.DataFrame({'Model': ['Logistic Regression', 'SVC', 'Random Forest', 'Decision Tree', 'XGB'], \n",
    "                             'Accuracy': [log_acc*100, svec_acc*100, rf_acc*100, dec_acc*100, xgb_acc*100]})\n",
    "\n",
    "compareModel.sort_values(by='Accuracy', ascending=False).style.background_gradient(cmap='Purples').hide_index()"
   ]
  },
  {
   "cell_type": "markdown",
   "id": "6b018688",
   "metadata": {},
   "source": [
    "# <h1 style=\"font-family: Trebuchet MS; padding: 12px; font-size: 32px; color: #6C3483; text-align: center; line-height: 1.25;\">Conclusions</h1>\n",
    "<hr>"
   ]
  },
  {
   "cell_type": "markdown",
   "id": "1261046c",
   "metadata": {},
   "source": [
    "## <div style=\"font-family: Trebuchet MS; background-color: #6C3483; color: #FFFFFF; padding: 12px; line-height: 1.5; text-align: center;\">We used <b style=\"color: #F4D03F\">Logistic Regression</b>, <b style=\"color: #F4D03F\">Random Forest</b>, <b style=\"color: #F4D03F\">Decision Tree</b>, and <b style=\"color: #F4D03F\">XGB</b>. We got accuracy score and then we have done comparison among accuracy scores of those algorithms. Now, we can see that, <b style=\"color: #F4D03F\">which model has highest accuracy score.</b> <b style=\"color: #F4D03F\">So, we can use that model for Parkinson Disease Prediction.</b></div>"
   ]
  },
  {
   "cell_type": "markdown",
   "id": "ba47946f",
   "metadata": {},
   "source": [
    "# <h1 style=\"font-family: Trebuchet MS; padding: 12px; font-size: 32px; color: #6C3483; text-align: center; line-height: 1.25;\">Thank You</h1>\n",
    "<hr>"
   ]
  },
  {
   "cell_type": "code",
   "execution_count": null,
   "id": "46d182f6",
   "metadata": {},
   "outputs": [],
   "source": []
  }
 ],
 "metadata": {
  "kernelspec": {
   "display_name": "Python 3 (ipykernel)",
   "language": "python",
   "name": "python3"
  },
  "language_info": {
   "codemirror_mode": {
    "name": "ipython",
    "version": 3
   },
   "file_extension": ".py",
   "mimetype": "text/x-python",
   "name": "python",
   "nbconvert_exporter": "python",
   "pygments_lexer": "ipython3",
   "version": "3.10.6"
  },
  "vscode": {
   "interpreter": {
    "hash": "73261e48852d51a8619d3559d80afe0391a56a50e480a00694bcdf352813ba28"
   }
  }
 },
 "nbformat": 4,
 "nbformat_minor": 5
}
